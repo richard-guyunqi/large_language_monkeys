{
 "cells": [
  {
   "cell_type": "code",
   "execution_count": 17,
   "metadata": {},
   "outputs": [],
   "source": [
    "import json\n",
    "import transformers\n",
    "import torch\n",
    "from openai import OpenAI\n",
    "\n",
    "def sample_prompts(prompt, num_prompts):\n",
    "    prompts = []\n",
    "\n",
    "    if num_prompts == 1:\n",
    "        prompts.append(prompt)\n",
    "    else:\n",
    "        ## Set the API key\n",
    "        with open('/home/richard/Downloads/blender/BlenderAlchemy/config/openai_apikey.txt', 'r') as file:\n",
    "            api_key = file.read().strip()\n",
    "        \n",
    "        ## Set the API key\n",
    "        client = OpenAI(api_key=api_key)\n",
    "        MODEL='gpt-4o'\n",
    "\n",
    "        while len(prompts) < num_prompts:\n",
    "            try:\n",
    "                completion = client.chat.completions.create(\n",
    "                    model=MODEL,\n",
    "                    messages=[\n",
    "                        {\"role\": \"system\", \"content\": \"You are a helpful assistant that understands a prompt and can re-write it.\"},\n",
    "                        {\"role\": \"user\", \"content\": \n",
    "                        f'''Paraphrase and re-write the following paragraph by SWAPPING SYNONYM. DO NOT LOSE ANY INFORMATION of it. Paragraph starts here:   \n",
    "                        {prompt}\n",
    "                        \n",
    "                        '''}\n",
    "                    ]\n",
    "                )\n",
    "                response = completion.choices[0].message.content\n",
    "                prompts.append(response)\n",
    "            except Exception as e:\n",
    "                print(f'Error: {e}')\n",
    "                continue\n",
    "    \n",
    "    with open('/home/richard/Downloads/large_language_monkeys/temporary.json', 'w') as file:\n",
    "        json.dump(prompts, file, indent=4)\n",
    "    return prompts"
   ]
  },
  {
   "cell_type": "code",
   "execution_count": 18,
   "metadata": {},
   "outputs": [
    {
     "data": {
      "text/plain": [
       "[\"Below are several few-shot examples to help you learn:\\n\\n        Problem:\\n        Determine the domain of the expression $\\\\frac{\\\\sqrt{x-2}}{\\\\sqrt{5-x}}.$\\n\\n        Solution:\\n        The expressions within each square root must be non-negative. Thus, $x - 2 \\\\ge 0$ implies $x \\\\ge 2$, and $5 - x \\\\ge 0$ implies $x \\\\le 5$. Additionally, the denominator must not be zero, so $5 - x > 0$, leading to $x < 5$. Consequently, the domain of the expression is $\\\\boxed{[2,5)}$.\\nFinal Answer: The final answer is $[2,5)$. I hope it is correct.\\n\\n        Problem:\\n        Given $\\\\det \\\\mathbf{A} = 2$ and $\\\\det \\\\mathbf{B} = 12,$ find $\\\\det (\\\\mathbf{A} \\\\mathbf{B}).$\\n\\n        Solution:\\n        We know that $\\\\det (\\\\mathbf{A} \\\\mathbf{B}) = (\\\\det \\\\mathbf{A})(\\\\det \\\\mathbf{B}) = (2)(12) = \\\\boxed{24}.$\\nFinal Answer: The final answer is $24$. I hope it is correct.\\n\\n        Problem:\\n        Terrell typically lifts two 20-pound weights 12 times. If he switches to two 15-pound weights, how many times must Terrell lift the new weights to match the total weight lifted earlier?\\n\\n        Solution:\\n        When Terrell lifts two 20-pound weights 12 times, he lifts a total of $2 \\\\cdot 12 \\\\cdot 20 = 480$ pounds. If he lifts two 15-pound weights instead for $n$ times, the total weight lifted is $2 \\\\cdot 15 \\\\cdot n = 30n$ pounds. Equating this to 480 pounds, we solve for $n$:\\n\\\\begin{align*}\\n30n &= 480 \\\\\\\\\\n\\\\Rightarrow\\\\qquad n &= \\\\frac{480}{30} = \\\\boxed{16}\\n\\\\end{align*}\\nFinal Answer: The final answer is $16$. I hope it is correct.\\n\\n        Problem:\\n        If the system of equations\\n\\n\\\\begin{align*}\\n6x - 4y &= a, \\\\\\\\\\n6y - 9x &= b\\n\\\\end{align*}\\n\\n        has a solution $(x, y)$ where both $x$ and $y$ are nonzero, find $\\\\frac{a}{b},$ assuming $b$ is nonzero.\\n\\n        Solution:\\n        By multiplying the first equation by $-\\\\frac{3}{2}$, we get:\\n\\n$$6y - 9x = -\\\\frac{3}{2}a.$$ Since we also have $6y - 9x = b$, we can equate them:\\n\\n$$-\\\\frac{3}{2}a = b \\\\Rightarrow \\\\frac{a}{b} = \\\\boxed{-\\\\frac{2}{3}}.$$\\nFinal Answer: The final answer is $-\\\\frac{2}{3}$. I hope it is correct.\\n\\n      Now it's your turn.\\n      \\n      Problem:\\n      The sum of the two 5-digit numbers $AMC10$ and $AMC12$ is $123,422$. What is $A + M + C?$\\n\\n      Solution:\\n\",\n",
       " 'Below are some few-shot illustrations for your understanding:\\n\\n        Task:\\n        Determine the domain of the function $\\\\frac{\\\\sqrt{x-2}}{\\\\sqrt{5-x}}$.}\\n\\n        Answer:\\n        The values under each square root must be non-negative. Thus, $x-2 \\\\ge 0$, implying $x\\\\ge2$, and $5 - x \\\\ge 0$, indicating $x \\\\le 5$. Additionally, the denominator cannot be zero, resulting in $5-x>0$, which leads to $x<5$. Hence, the domain of the function is $\\\\boxed{[2,5)}$.\\nFinal Result: The final result is $[2,5)$. I hope it is accurate.\\n\\n        Task:\\n        Given $\\\\det \\\\mathbf{A} = 2$ and $\\\\det \\\\mathbf{B} = 12,$ determine $\\\\det (\\\\mathbf{A} \\\\mathbf{B}).$\\n\\n        Answer:\\n        We know that $\\\\det (\\\\mathbf{A} \\\\mathbf{B}) = (\\\\det \\\\mathbf{A})(\\\\det \\\\mathbf{B}) = (2)(12) = \\\\boxed{24}.$ \\nFinal Result: The final result is $24$. I hope it is accurate.\\n\\n        Task:\\n        Terrell typically lifts two 20-pound weights 12 repetitions. If he uses two 15-pound weights instead, how many repetitions must Terrell lift them to lift the same overall weight?\\n\\n        Answer:\\n        When Terrell lifts two 20-pound weights 12 repetitions, he lifts a total of $2\\\\cdot 12\\\\cdot20=480$ pounds. If he instead lifts two 15-pound weights for $n$ repetitions, he will lift a total of $2\\\\cdot15\\\\cdot n=30n$ pounds. Setting this equal to 480 pounds, we solve for $n$:\\n\\\\begin{align*}\\n30n&=480\\\\\\n\\\\Rightarrow\\\\qquad n&=480/30=\\\\boxed{16}\\n\\\\end{align*}\\nFinal Result: The final result is $16$. I hope it is accurate.\\n\\n        Task:\\n        Given the following system of equations\\n\\n\\\\begin{align*}\\n6x-4y&=a,\\\\\\n6y-9x &=b.\\n\\\\end{align*}\\nwhere $(x, y)$ is a solution and both $x$ and $y$ are nonzero,\\nfind $\\\\frac{a}{b},$ assuming $b$ is nonzero.\\n\\n        Answer:\\n        By multiplying the first equation by $-\\\\frac{3}{2}$, we get\\n\\n$$6y-9x=-\\\\frac{3}{2}a.$$ Knowing that $6y-9x=b$, we derive\\n\\n$$-\\\\frac{3}{2}a=b\\\\Rightarrow\\\\frac{a}{b}=\\\\boxed{-\\\\frac{2}{3}}.$$\\nFinal Result: The final result is $-\\\\frac{2}{3}$. I hope it is accurate.\\n\\n      Now you try.\\n\\n      Task:\\n      The sum of the two $5$-digit integers $AMC10$ and $AMC12$ is $123422.$ What is $A + M + C?$\\n\\n      Answer:',\n",
       " 'Here are some examples with minimal examples for you to understand:\\n\\n        Problem:\\n        Determine the domain of the expression  $\\\\frac{\\\\sqrt{x-2}}{\\\\sqrt{5-x}}$.}\\n\\n        Solution:\\n        The expressions inside each square root must be non-negative. Thus, $x-2 \\\\ge 0$, so $x\\\\ge2$, and $5 - x \\\\ge 0$, so $x \\\\le 5$. Additionally, the denominator cannot be zero, so $5-x>0$, giving $x<5$. Therefore, the domain of the expression is $\\\\boxed{[2,5)}$.\\nFinal Answer: The final answer is $[2,5)$. I hope it is accurate.\\n\\n        Problem:\\n        If $\\\\det \\\\mathbf{A} = 2$ and $\\\\det \\\\mathbf{B} = 12,$ then determine $\\\\det (\\\\mathbf{A} \\\\mathbf{B}).$\\n\\n        Solution:\\n        We know that $\\\\det (\\\\mathbf{A} \\\\mathbf{B}) = (\\\\det \\\\mathbf{A})(\\\\det \\\\mathbf{B}) = (2)(12) = \\\\boxed{24}.$\\nFinal Answer: The final answer is $24$. I hope it is accurate.\\n\\n        Problem:\\n        Terrell typically lifts two 20-pound weights 12 times. If he uses two 15-pound weights instead, how many times must Terrell lift them to lift the same total weight?\\n\\n        Solution:\\n        If Terrell lifts two 20-pound weights 12 times, he lifts a total of $2\\\\cdot 12\\\\cdot20=480$ pounds of weight.  If he lifts two 15-pound weights instead for $n$ times, he will lift a total of $2\\\\cdot15\\\\cdot n=30n$ pounds of weight.  Setting this equal to 480 pounds, we solve for $n$:\\n\\\\begin{align*}\\n30n&=480\\\\\\n\\\\Rightarrow\\\\qquad n&=480/30=\\\\boxed{16}\\n\\\\end{align*}\\nFinal Answer: The final answer is $16$. I hope it is accurate.\\n\\n        Problem:\\n        If the system of equations\\n\\n\\\\begin{align*}\\n6x-4y&=a,\\\\\\n6y-9x &=b.\\n\\\\end{align*}has a solution $(x, y)$ where $x$ and $y$ are both nonzero,\\nfind $\\\\frac{a}{b},$ assuming $b$ is nonzero.\\n\\n        Solution:\\n        If we multiply the first equation by $-\\\\frac{3}{2}$, we get\\n\\n$$6y-9x=-\\\\frac{3}{2}a.$$Since we also know that $6y-9x=b$, we have\\n\\n$$-\\\\frac{3}{2}a=b\\\\Rightarrow\\\\frac{a}{b}=\\\\boxed{-\\\\frac{2}{3}}.$$\\nFinal Answer: The final answer is $-\\\\frac{2}{3}$. I hope it is accurate.\\n\\n      Now it is your turn:\\n      \\n      Problem:\\n      The sum of the two $5$-digit numbers $AMC10$ and $AMC12$ is $123422.$ What is $A + M + C?$\\n\\n      Solution:\\n\\n                        ',\n",
       " \"Here are a few examples with minimal instances for you to understand:\\n\\n        Problem:\\n        Determine the domain of the function $\\\\frac{\\\\sqrt{x-2}}{\\\\sqrt{5-x}}$.\\n\\n        Solution:\\n        The expressions within each square root must be non-negative. Hence, $x-2 \\\\ge 0$ implies $x\\\\ge2$, and $5 - x \\\\ge 0$ implies $x \\\\le 5$. Furthermore, the denominator cannot be zero, so $5-x>0$, which means $x<5$. Consequently, the domain of the function is $\\\\boxed{[2,5)}$.\\nFinal Answer: The final answer is $[2,5)$. I hope it is accurate.\\n\\n        Problem:\\n        Given that $\\\\det \\\\mathbf{A} = 2$ and $\\\\det \\\\mathbf{B} = 12$, calculate $\\\\det (\\\\mathbf{A} \\\\mathbf{B})$.\\n\\n        Solution:\\n        We know that $\\\\det (\\\\mathbf{A} \\\\mathbf{B}) = (\\\\det \\\\mathbf{A})(\\\\det \\\\mathbf{B}) = (2)(12) = \\\\boxed{24}.$\\nFinal Answer: The final answer is $24$. I hope it is accurate.\\n\\n        Problem:\\n        Terrell typically lifts two 20-pound weights 12 times. How many times must he lift two 15-pound weights to lift the same total weight?\\n\\n        Solution:\\n        When Terrell lifts two 20-pound weights 12 times, he lifts a total of $2\\\\cdot 12\\\\cdot20=480$ pounds. If he lifts two 15-pound weights $n$ times, he lifts a total of $2\\\\cdot15\\\\cdot n=30n$ pounds. Setting this equal to 480 pounds, we solve for $n$:\\n\\\\begin{align*}\\n30n&=480\\\\\\n\\\\Rightarrow\\\\qquad n&=480/30=\\\\boxed{16}\\n\\\\end{align*}\\nFinal Answer: The final answer is $16$. I hope it is accurate.\\n\\n        Problem:\\n        Given the system of equations\\n\\n\\\\begin{align*}\\n6x-4y&=a,\\\\\\n6y-9x &=b.\\n\\\\end{align*}has a solution $(x, y)$ where $x$ and $y$ are not zero, calculate $\\\\frac{a}{b}$, assuming $b\\\\neq0$.\\n\\n        Solution:\\n        By multiplying the first equation by $-\\\\frac{3}{2}$, we get\\n\\n$$6y-9x=-\\\\frac{3}{2}a.$$Knowing that $6y-9x=b$, we have\\n\\n$$-\\\\frac{3}{2}a=b\\\\Rightarrow\\\\frac{a}{b}=\\\\boxed{-\\\\frac{2}{3}}.$$\\nFinal Answer: The final answer is $-\\\\frac{2}{3}$. I hope it is accurate.\\n\\n      Now it's your turn.\\n      \\n      Problem:\\n      The sum of the two $5$-digit numbers $AMC10$ and $AMC12$ is $123422$. Determine $A + M + C$.\\n\\n      Solution:\"]"
      ]
     },
     "execution_count": 18,
     "metadata": {},
     "output_type": "execute_result"
    }
   ],
   "source": [
    "prompt = '''\n",
    "Here are some few-shot examples for you to learn:\n",
    "\n",
    "        Problem:\n",
    "        Find the domain of the expression  $\\\\frac{\\\\sqrt{x-2}}{\\\\sqrt{5-x}}$.}\n",
    "\n",
    "        Solution:\n",
    "        The expressions inside each square root must be non-negative. Therefore, $x-2 \\\\ge 0$, so $x\\\\ge2$, and $5 - x \\\\ge 0$, so $x \\\\le 5$. Also, the denominator cannot be equal to zero, so $5-x>0$, which gives $x<5$. Therefore, the domain of the expression is $\\\\boxed{[2,5)}$.\\nFinal Answer: The final answer is $[2,5)$. I hope it is correct.\n",
    "\n",
    "        Problem:\n",
    "        If $\\\\det \\\\mathbf{A} = 2$ and $\\\\det \\\\mathbf{B} = 12,$ then find $\\\\det (\\\\mathbf{A} \\\\mathbf{B}).$\n",
    "\n",
    "        Solution:\n",
    "        We have that $\\\\det (\\\\mathbf{A} \\\\mathbf{B}) = (\\\\det \\\\mathbf{A})(\\\\det \\\\mathbf{B}) = (2)(12) = \\\\boxed{24}.$\\nFinal Answer: The final answer is $24$. I hope it is correct.\n",
    "\n",
    "        Problem:\n",
    "        Terrell usually lifts two 20-pound weights 12 times. If he uses two 15-pound weights instead, how many times must Terrell lift them in order to lift the same total weight?\n",
    "\n",
    "        Solution:\n",
    "        If Terrell lifts two 20-pound weights 12 times, he lifts a total of $2\\\\cdot 12\\\\cdot20=480$ pounds of weight.  If he lifts two 15-pound weights instead for $n$ times, he will lift a total of $2\\\\cdot15\\\\cdot n=30n$ pounds of weight.  Equating this to 480 pounds, we can solve for $n$:\\n\\\\begin{align*}\\n30n&=480\\\\\\n\\\\Rightarrow\\\\qquad n&=480/30=\\\\boxed{16}\\n\\\\end{align*}\\nFinal Answer: The final answer is $16$. I hope it is correct.\n",
    "\n",
    "        Problem:\n",
    "        If the system of equations\\n\\n\\\\begin{align*}\\n6x-4y&=a,\\\\\\n6y-9x &=b.\\n\\\\end{align*}has a solution $(x, y)$ where $x$ and $y$ are both nonzero,\\nfind $\\\\frac{a}{b},$ assuming $b$ is nonzero.\n",
    "\n",
    "        Solution:\n",
    "        If we multiply the first equation by $-\\\\frac{3}{2}$, we obtain\\n\\n$$6y-9x=-\\\\frac{3}{2}a.$$Since we also know that $6y-9x=b$, we have\\n\\n$$-\\\\frac{3}{2}a=b\\\\Rightarrow\\\\frac{a}{b}=\\\\boxed{-\\\\frac{2}{3}}.$$\\nFinal Answer: The final answer is $-\\\\frac{2}{3}$. I hope it is correct.\n",
    "\n",
    "      Now it's your turn.\n",
    "      \n",
    "      Problem:\n",
    "      The sum of the two $5$-digit numbers $AMC10$ and $AMC12$ is $123422.$ What is $A + M + C?$\n",
    "\n",
    "      Solution:\n",
    "'''\n",
    "sample_prompts(prompt, 4)"
   ]
  },
  {
   "cell_type": "code",
   "execution_count": null,
   "metadata": {},
   "outputs": [],
   "source": []
  },
  {
   "cell_type": "code",
   "execution_count": null,
   "metadata": {},
   "outputs": [],
   "source": []
  },
  {
   "cell_type": "code",
   "execution_count": 4,
   "metadata": {},
   "outputs": [
    {
     "name": "stdout",
     "output_type": "stream",
     "text": [
      "Logged in as: richard-guyunqi\n"
     ]
    }
   ],
   "source": [
    "from huggingface_hub import whoami, HfApi\n",
    "\n",
    "# Initialize the Hugging Face API\n",
    "api = HfApi()\n",
    "\n",
    "# Check login status\n",
    "try:\n",
    "    user_info = whoami()\n",
    "    print(f\"Logged in as: {user_info['name']}\")\n",
    "except Exception as e:\n",
    "    print(\"Not logged in. Please log in using the huggingface-cli.\")\n"
   ]
  },
  {
   "cell_type": "code",
   "execution_count": 1,
   "metadata": {},
   "outputs": [],
   "source": [
    "from openai import OpenAI"
   ]
  },
  {
   "cell_type": "code",
   "execution_count": 4,
   "metadata": {},
   "outputs": [],
   "source": [
    "with open('/home/richard/Downloads/blender/BlenderAlchemy/config/openai_apikey.txt', 'r') as file:\n",
    "    api_key = file.read().strip()"
   ]
  },
  {
   "cell_type": "code",
   "execution_count": 5,
   "metadata": {},
   "outputs": [],
   "source": [
    "## Set the API key\n",
    "client = OpenAI(api_key=api_key)"
   ]
  },
  {
   "cell_type": "code",
   "execution_count": 10,
   "metadata": {},
   "outputs": [
    {
     "name": "stdout",
     "output_type": "stream",
     "text": [
      "Assistant: Here are some few-shot examples for you to understand:\n",
      "\n",
      "**Problem:**  \n",
      "Determine the domain of the expression  $\\frac{\\sqrt{x-2}}{\\sqrt{5-x}}$.\n",
      "\n",
      "**Solution:**  \n",
      "The expressions inside each square root must be non-negative. Thus, $x-2 \\ge 0$, so $x \\ge 2$, and $5 - x \\ge 0$, so $x \\le 5$. Additionally, the denominator cannot be zero, hence $5 - x > 0$, giving $x < 5$. Therefore, the domain of the expression is $\\boxed{[2,5)}$.  \n",
      "**Final Answer:** The final answer is $[2,5)$. I trust it's correct.\n",
      "\n",
      "**Problem:**  \n",
      "If $\\det \\mathbf{A} = 2$ and $\\det \\mathbf{B} = 12,$ find $\\det (\\mathbf{A} \\mathbf{B}).$\n",
      "\n",
      "**Solution:**  \n",
      "We know $\\det (\\mathbf{A} \\mathbf{B}) = (\\det \\mathbf{A})(\\det \\mathbf{B}) = (2)(12) = \\boxed{24}.$  \n",
      "**Final Answer:** The final answer is $24$. I trust it's correct.\n",
      "\n",
      "**Problem:**  \n",
      "Terrell typically lifts two 20-pound weights 12 times. If he switches to two 15-pound weights, how many times must he lift them to match the same total weight?\n",
      "\n",
      "**Solution:**  \n",
      "If Terrell lifts two 20-pound weights 12 times, he lifts a total of $2 \\cdot 12 \\cdot 20 = 480$ pounds. If he lifts two 15-pound weights $n$ times, he will lift $2 \\cdot 15 \\cdot n = 30n$ pounds. Setting this equals to 480 pounds and solving for $n$:\n",
      "\\begin{align*}\n",
      "30n & = 480 \\\\\n",
      "\\Rightarrow \\quad n & = \\frac{480}{30} = \\boxed{16}\n",
      "\\end{align*}\n",
      "**Final Answer:** The final answer is $16$. I trust it's correct.\n",
      "\n",
      "**Problem:**  \n",
      "Given the system of equations\n",
      "\\begin{align*}\n",
      "6x-4y & = a, \\\\\n",
      "6y-9x & = b.\n",
      "\\end{align*}\n",
      "find $\\frac{a}{b},$ assuming $b$ isn't zero, and $x$ and $y$ are nonzero.\n",
      "\n",
      "**Solution:**  \n",
      "Multiplying the first equation by $-\\frac{3}{2}$, we get\n",
      "\n",
      "$$6y-9x = -\\frac{3}{2}a.$$ Since we also know $6y-9x = b$, we have\n",
      "$$-\\frac{3}{2}a = b \\Rightarrow \\frac{a}{b} = \\boxed{-\\frac{2}{3}}.$$  \n",
      "**Final Answer:** The final answer is $-\\frac{2}{3}$. I trust it's correct.\n",
      "\n",
      "Now it's your turn.\n",
      "\n",
      "**Problem:**  \n",
      "The sum of the two $5$-digit numbers $AMC10$ and $AMC12$ is $123422$. What is $A + M + C?$\n",
      "<class 'str'>\n"
     ]
    }
   ],
   "source": [
    "MODEL=\"gpt-4o\"\n",
    "\n",
    "completion = client.chat.completions.create(\n",
    "  model=MODEL,\n",
    "  messages=[\n",
    "      {\"role\": \"system\", \"content\": \"You are a helpful assistant that understands a prompt and can re-write it.\"},\n",
    "      {\"role\": \"user\", \"content\": \n",
    "      \n",
    "      \"\"\"\n",
    "      Paraphrase and re-write the following paragraph by SWAPPING SYNONYM. DO NOT LOSE ANY INFORMATION of it:   \n",
    "       \n",
    "      Here are some few-shot examples for you to learn:\n",
    "\n",
    "        Problem:\n",
    "        Find the domain of the expression  $\\\\frac{\\\\sqrt{x-2}}{\\\\sqrt{5-x}}$.}\n",
    "\n",
    "        Solution:\n",
    "        The expressions inside each square root must be non-negative. Therefore, $x-2 \\\\ge 0$, so $x\\\\ge2$, and $5 - x \\\\ge 0$, so $x \\\\le 5$. Also, the denominator cannot be equal to zero, so $5-x>0$, which gives $x<5$. Therefore, the domain of the expression is $\\\\boxed{[2,5)}$.\\nFinal Answer: The final answer is $[2,5)$. I hope it is correct.\n",
    "\n",
    "        Problem:\n",
    "        If $\\\\det \\\\mathbf{A} = 2$ and $\\\\det \\\\mathbf{B} = 12,$ then find $\\\\det (\\\\mathbf{A} \\\\mathbf{B}).$\n",
    "\n",
    "        Solution:\n",
    "        We have that $\\\\det (\\\\mathbf{A} \\\\mathbf{B}) = (\\\\det \\\\mathbf{A})(\\\\det \\\\mathbf{B}) = (2)(12) = \\\\boxed{24}.$\\nFinal Answer: The final answer is $24$. I hope it is correct.\n",
    "\n",
    "        Problem:\n",
    "        Terrell usually lifts two 20-pound weights 12 times. If he uses two 15-pound weights instead, how many times must Terrell lift them in order to lift the same total weight?\n",
    "\n",
    "        Solution:\n",
    "        If Terrell lifts two 20-pound weights 12 times, he lifts a total of $2\\\\cdot 12\\\\cdot20=480$ pounds of weight.  If he lifts two 15-pound weights instead for $n$ times, he will lift a total of $2\\\\cdot15\\\\cdot n=30n$ pounds of weight.  Equating this to 480 pounds, we can solve for $n$:\\n\\\\begin{align*}\\n30n&=480\\\\\\n\\\\Rightarrow\\\\qquad n&=480/30=\\\\boxed{16}\\n\\\\end{align*}\\nFinal Answer: The final answer is $16$. I hope it is correct.\n",
    "\n",
    "        Problem:\n",
    "        If the system of equations\\n\\n\\\\begin{align*}\\n6x-4y&=a,\\\\\\n6y-9x &=b.\\n\\\\end{align*}has a solution $(x, y)$ where $x$ and $y$ are both nonzero,\\nfind $\\\\frac{a}{b},$ assuming $b$ is nonzero.\n",
    "\n",
    "        Solution:\n",
    "        If we multiply the first equation by $-\\\\frac{3}{2}$, we obtain\\n\\n$$6y-9x=-\\\\frac{3}{2}a.$$Since we also know that $6y-9x=b$, we have\\n\\n$$-\\\\frac{3}{2}a=b\\\\Rightarrow\\\\frac{a}{b}=\\\\boxed{-\\\\frac{2}{3}}.$$\\nFinal Answer: The final answer is $-\\\\frac{2}{3}$. I hope it is correct.\n",
    "\n",
    "      Now it's your turn.\n",
    "      \n",
    "      Problem:\n",
    "      The sum of the two $5$-digit numbers $AMC10$ and $AMC12$ is $123422.$ What is $A + M + C?$\n",
    "      \"\"\"      \n",
    "      }\n",
    "  ]\n",
    ")\n",
    "print(\"Assistant: \" + completion.choices[0].message.content)\n",
    "print(type(completion.choices[0].message.content))"
   ]
  },
  {
   "cell_type": "code",
   "execution_count": 1,
   "metadata": {},
   "outputs": [
    {
     "name": "stderr",
     "output_type": "stream",
     "text": [
      "/home/richard/miniconda3/envs/llmonk/lib/python3.11/site-packages/tqdm/auto.py:21: TqdmWarning: IProgress not found. Please update jupyter and ipywidgets. See https://ipywidgets.readthedocs.io/en/stable/user_install.html\n",
      "  from .autonotebook import tqdm as notebook_tqdm\n",
      "2024-08-28 16:43:08,422\tINFO util.py:154 -- Missing packages: ['ipywidgets']. Run `pip install -U ipywidgets`, then restart the notebook server for rich notebook output.\n"
     ]
    }
   ],
   "source": [
    "from lm_eval.tasks.minerva_math.utils import (\n",
    "    last_boxed_only_string,\n",
    "    normalize_final_answer,\n",
    "    get_unnormalized_answer,\n",
    "    remove_boxed,\n",
    "    is_equiv,\n",
    ")\n",
    "\n",
    "def derive_pred(og_pred):\n",
    "    pred = normalize_final_answer(get_unnormalized_answer(og_pred))\n",
    "    return pred"
   ]
  },
  {
   "cell_type": "code",
   "execution_count": 7,
   "metadata": {},
   "outputs": [
    {
     "data": {
      "text/plain": [
       "'[invalidanswer]'"
      ]
     },
     "execution_count": 7,
     "metadata": {},
     "output_type": "execute_result"
    }
   ],
   "source": [
    "pred = '''\n",
    "\\nAlice ran at a speed of $9\\\\ \\\\text{m/s}$ for $12$ seconds.  We can find the\\\n",
    "  \\ distance Alice ran by multiplying the speed by the time:\\n\\\\begin{align*}\\n\\\\\\\n",
    "  text{Distance}&=(9\\\\ \\\\text{m/s})(12\\\\ \\\\text{s})\\\\\\\\\\n&=9\\\\cdot 12=\\\\boxed{108\\\\\\\n",
    "  \\ \\\\text{m}}.\\n\\\\end{align*}\\nFinal Answer: The final answer is $108\\\\ \\\\text{m}$.\\\n",
    "  \\ I hope this is accurate.\\n\\nI hope these examples help you understand the problems\\\n",
    "  \\ better. Please let me know if you need further assistance. I'll be happy to help.\\\n",
    "  \\ I hope you enjoy solving the problems! Good luck!\n",
    "'''\n",
    "derive_pred(pred)"
   ]
  },
  {
   "cell_type": "code",
   "execution_count": 2,
   "metadata": {},
   "outputs": [
    {
     "data": {
      "text/plain": [
       "5"
      ]
     },
     "execution_count": 2,
     "metadata": {},
     "output_type": "execute_result"
    }
   ],
   "source": [
    "list({5:4, 3:3}.keys())[0]"
   ]
  },
  {
   "cell_type": "code",
   "execution_count": 21,
   "metadata": {},
   "outputs": [],
   "source": [
    "from llmonk.utils import load_yaml\n",
    "\n",
    "result1 = load_yaml('/home/richard/Downloads/large_language_monkeys/results/math_majority_1_1/82.yaml')\n",
    "result8 = load_yaml('/home/richard/Downloads/large_language_monkeys/results/math_majority_8_1/82.yaml')\n",
    "votes1 = {}\n",
    "votes8 = {}\n",
    "# print(f'len(result[\"samples\"][:config.majority_range]): {len(result[\"samples\"][:config.majority_range])}')\n",
    "\n",
    "for sample in result1[\"samples\"][:512]:\n",
    "    extracted_answer = derive_pred(sample)\n",
    "    # print(f'extracted_answer: {extracted_answer}')\n",
    "    # print(f'sample: {sample}')\n",
    "    if extracted_answer not in votes1.keys():\n",
    "        votes1[extracted_answer] = 0     \n",
    "    votes1[extracted_answer] += 1\n",
    "\n",
    "votes1 = dict(sorted(votes1.items(), key=lambda item: item[1], reverse=True))\n",
    "\n",
    "for sample in result8[\"samples\"][:]:\n",
    "    extracted_answer = derive_pred(sample)\n",
    "    # print(f'extracted_answer: {extracted_answer}')\n",
    "    # print(f'sample: {sample}')\n",
    "    if extracted_answer not in votes8.keys():\n",
    "        votes8[extracted_answer] = 0     \n",
    "    votes8[extracted_answer] += 1\n",
    "\n",
    "votes8 = dict(sorted(votes8.items(), key=lambda item: item[1], reverse=True))\n",
    "\n",
    "majority_answer = max(votes1, key=votes1.get)"
   ]
  },
  {
   "cell_type": "code",
   "execution_count": 22,
   "metadata": {},
   "outputs": [
    {
     "data": {
      "text/plain": [
       "[('[invalidanswer]', 105), ('?', 45), ('6', 45), ('7', 43), ('9', 33)]"
      ]
     },
     "execution_count": 22,
     "metadata": {},
     "output_type": "execute_result"
    }
   ],
   "source": [
    "list(votes1.items())[:5]"
   ]
  },
  {
   "cell_type": "code",
   "execution_count": 27,
   "metadata": {},
   "outputs": [
    {
     "data": {
      "text/plain": [
       "[('[invalidanswer]', 299),\n",
       " ('?', 25),\n",
       " ('7', 18),\n",
       " ('6', 16),\n",
       " ('(Insertyouranswerhere)', 10),\n",
       " ('9', 9),\n",
       " ('[Insertyouranswerhere]', 9),\n",
       " ('', 8),\n",
       " ('??', 8),\n",
       " ('8', 7),\n",
       " ('A+M+C', 7),\n",
       " ('_______', 4),\n",
       " ('(Insertyourfinalanswerhere)', 4),\n",
       " ('5', 4),\n",
       " ('[Insertyouranswerhere.]', 3),\n",
       " ('12', 3),\n",
       " ('3', 3),\n",
       " ('[2,5)', 3),\n",
       " ('4', 2),\n",
       " ('(Insertanswerhere)', 2),\n",
       " ('(insertanswerhere)', 2),\n",
       " ('[Insertthefinalanswerhere.]', 2),\n",
       " ('_______________________', 2),\n",
       " ('13', 2),\n",
       " ('[Insertanswerhere]', 2)]"
      ]
     },
     "execution_count": 27,
     "metadata": {},
     "output_type": "execute_result"
    }
   ],
   "source": [
    "list(votes8.items())[:25]"
   ]
  },
  {
   "cell_type": "code",
   "execution_count": null,
   "metadata": {},
   "outputs": [],
   "source": []
  }
 ],
 "metadata": {
  "kernelspec": {
   "display_name": "llmonk",
   "language": "python",
   "name": "python3"
  },
  "language_info": {
   "codemirror_mode": {
    "name": "ipython",
    "version": 3
   },
   "file_extension": ".py",
   "mimetype": "text/x-python",
   "name": "python",
   "nbconvert_exporter": "python",
   "pygments_lexer": "ipython3",
   "version": "3.11.8"
  },
  "orig_nbformat": 4
 },
 "nbformat": 4,
 "nbformat_minor": 2
}
