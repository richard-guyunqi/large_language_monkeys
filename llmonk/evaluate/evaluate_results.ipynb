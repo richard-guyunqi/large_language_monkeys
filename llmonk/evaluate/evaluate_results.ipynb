{
 "cells": [
  {
   "cell_type": "markdown",
   "metadata": {},
   "source": [
    "## Majority vote: from generated results to majority score"
   ]
  },
  {
   "cell_type": "code",
   "execution_count": 57,
   "metadata": {},
   "outputs": [
    {
     "name": "stderr",
     "output_type": "stream",
     "text": [
      "Loading generations: 128it [00:00, 48029.25it/s]\n"
     ]
    },
    {
     "name": "stdout",
     "output_type": "stream",
     "text": [
      "Taking majority on 128 problems.\n"
     ]
    },
    {
     "name": "stderr",
     "output_type": "stream",
     "text": [
      "100%|██████████| 128/128 [00:00<00:00, 1973790.12it/s]\n",
      "  2%|▏         | 1/52 [00:12<10:28, 12.33s/it]"
     ]
    },
    {
     "name": "stdout",
     "output_type": "stream",
     "text": [
      "Script executed successfully for range 1\n"
     ]
    },
    {
     "name": "stderr",
     "output_type": "stream",
     "text": [
      "Loading generations: 128it [00:00, 44612.84it/s]\n"
     ]
    },
    {
     "name": "stdout",
     "output_type": "stream",
     "text": [
      "Taking majority on 128 problems.\n"
     ]
    },
    {
     "name": "stderr",
     "output_type": "stream",
     "text": [
      "100%|██████████| 128/128 [00:00<00:00, 2064888.12it/s]\n",
      "  4%|▍         | 2/52 [00:24<10:09, 12.18s/it]"
     ]
    },
    {
     "name": "stdout",
     "output_type": "stream",
     "text": [
      "Script executed successfully for range 11\n"
     ]
    },
    {
     "name": "stderr",
     "output_type": "stream",
     "text": [
      "Loading generations: 128it [00:00, 45385.99it/s]\n"
     ]
    },
    {
     "name": "stdout",
     "output_type": "stream",
     "text": [
      "Taking majority on 128 problems.\n"
     ]
    },
    {
     "name": "stderr",
     "output_type": "stream",
     "text": [
      "100%|██████████| 128/128 [00:00<00:00, 2122019.42it/s]\n",
      "  6%|▌         | 3/52 [00:36<09:57, 12.20s/it]"
     ]
    },
    {
     "name": "stdout",
     "output_type": "stream",
     "text": [
      "Script executed successfully for range 21\n"
     ]
    },
    {
     "name": "stderr",
     "output_type": "stream",
     "text": [
      "Loading generations: 128it [00:00, 46454.18it/s]\n"
     ]
    },
    {
     "name": "stdout",
     "output_type": "stream",
     "text": [
      "Taking majority on 128 problems.\n"
     ]
    },
    {
     "name": "stderr",
     "output_type": "stream",
     "text": [
      "100%|██████████| 128/128 [00:00<00:00, 2025927.97it/s]\n",
      "  8%|▊         | 4/52 [00:48<09:47, 12.25s/it]"
     ]
    },
    {
     "name": "stdout",
     "output_type": "stream",
     "text": [
      "Script executed successfully for range 31\n"
     ]
    },
    {
     "name": "stderr",
     "output_type": "stream",
     "text": [
      "Loading generations: 128it [00:00, 45839.39it/s]\n"
     ]
    },
    {
     "name": "stdout",
     "output_type": "stream",
     "text": [
      "Taking majority on 128 problems.\n"
     ]
    },
    {
     "name": "stderr",
     "output_type": "stream",
     "text": [
      "100%|██████████| 128/128 [00:00<00:00, 2191309.84it/s]\n",
      " 10%|▉         | 5/52 [01:00<09:27, 12.08s/it]"
     ]
    },
    {
     "name": "stdout",
     "output_type": "stream",
     "text": [
      "Script executed successfully for range 41\n"
     ]
    },
    {
     "name": "stderr",
     "output_type": "stream",
     "text": [
      "Loading generations: 128it [00:00, 46230.17it/s]\n"
     ]
    },
    {
     "name": "stdout",
     "output_type": "stream",
     "text": [
      "Taking majority on 128 problems.\n"
     ]
    },
    {
     "name": "stderr",
     "output_type": "stream",
     "text": [
      "100%|██████████| 128/128 [00:00<00:00, 2113665.01it/s]\n",
      " 12%|█▏        | 6/52 [01:13<09:23, 12.24s/it]"
     ]
    },
    {
     "name": "stdout",
     "output_type": "stream",
     "text": [
      "Script executed successfully for range 51\n"
     ]
    },
    {
     "name": "stderr",
     "output_type": "stream",
     "text": [
      "Loading generations: 128it [00:00, 47143.56it/s]\n"
     ]
    },
    {
     "name": "stdout",
     "output_type": "stream",
     "text": [
      "Taking majority on 128 problems.\n"
     ]
    },
    {
     "name": "stderr",
     "output_type": "stream",
     "text": [
      "100%|██████████| 128/128 [00:00<00:00, 2097152.00it/s]\n",
      " 13%|█▎        | 7/52 [01:25<09:08, 12.20s/it]"
     ]
    },
    {
     "name": "stdout",
     "output_type": "stream",
     "text": [
      "Script executed successfully for range 61\n"
     ]
    },
    {
     "name": "stderr",
     "output_type": "stream",
     "text": [
      "Loading generations: 128it [00:00, 47143.56it/s]\n"
     ]
    },
    {
     "name": "stdout",
     "output_type": "stream",
     "text": [
      "Taking majority on 128 problems.\n"
     ]
    },
    {
     "name": "stderr",
     "output_type": "stream",
     "text": [
      "100%|██████████| 128/128 [00:00<00:00, 2485513.48it/s]\n",
      " 15%|█▌        | 8/52 [01:37<08:59, 12.25s/it]"
     ]
    },
    {
     "name": "stdout",
     "output_type": "stream",
     "text": [
      "Script executed successfully for range 71\n"
     ]
    },
    {
     "name": "stderr",
     "output_type": "stream",
     "text": [
      "Loading generations: 128it [00:00, 46297.94it/s]\n"
     ]
    },
    {
     "name": "stdout",
     "output_type": "stream",
     "text": [
      "Taking majority on 128 problems.\n"
     ]
    },
    {
     "name": "stderr",
     "output_type": "stream",
     "text": [
      "100%|██████████| 128/128 [00:00<00:00, 1593088.76it/s]\n",
      " 17%|█▋        | 9/52 [01:50<08:57, 12.50s/it]"
     ]
    },
    {
     "name": "stdout",
     "output_type": "stream",
     "text": [
      "Script executed successfully for range 81\n"
     ]
    },
    {
     "name": "stderr",
     "output_type": "stream",
     "text": [
      "Loading generations: 128it [00:00, 47214.05it/s]\n"
     ]
    },
    {
     "name": "stdout",
     "output_type": "stream",
     "text": [
      "Taking majority on 128 problems.\n"
     ]
    },
    {
     "name": "stderr",
     "output_type": "stream",
     "text": [
      "100%|██████████| 128/128 [00:00<00:00, 1646843.29it/s]\n",
      " 19%|█▉        | 10/52 [02:03<08:47, 12.55s/it]"
     ]
    },
    {
     "name": "stdout",
     "output_type": "stream",
     "text": [
      "Script executed successfully for range 91\n"
     ]
    },
    {
     "name": "stderr",
     "output_type": "stream",
     "text": [
      "Loading generations: 128it [00:00, 45843.30it/s]\n"
     ]
    },
    {
     "name": "stdout",
     "output_type": "stream",
     "text": [
      "Taking majority on 128 problems.\n"
     ]
    },
    {
     "name": "stderr",
     "output_type": "stream",
     "text": [
      "100%|██████████| 128/128 [00:00<00:00, 1995802.65it/s]\n",
      " 21%|██        | 11/52 [02:15<08:29, 12.42s/it]"
     ]
    },
    {
     "name": "stdout",
     "output_type": "stream",
     "text": [
      "Script executed successfully for range 101\n"
     ]
    },
    {
     "name": "stderr",
     "output_type": "stream",
     "text": [
      "Loading generations: 128it [00:00, 46712.86it/s]\n"
     ]
    },
    {
     "name": "stdout",
     "output_type": "stream",
     "text": [
      "Taking majority on 128 problems.\n"
     ]
    },
    {
     "name": "stderr",
     "output_type": "stream",
     "text": [
      "100%|██████████| 128/128 [00:00<00:00, 2105376.13it/s]\n",
      " 23%|██▎       | 12/52 [02:27<08:10, 12.25s/it]"
     ]
    },
    {
     "name": "stdout",
     "output_type": "stream",
     "text": [
      "Script executed successfully for range 111\n"
     ]
    },
    {
     "name": "stderr",
     "output_type": "stream",
     "text": [
      "Loading generations: 128it [00:00, 43779.74it/s]\n"
     ]
    },
    {
     "name": "stdout",
     "output_type": "stream",
     "text": [
      "Taking majority on 128 problems.\n"
     ]
    },
    {
     "name": "stderr",
     "output_type": "stream",
     "text": [
      "100%|██████████| 128/128 [00:00<00:00, 2064888.12it/s]\n",
      " 25%|██▌       | 13/52 [02:39<07:55, 12.20s/it]"
     ]
    },
    {
     "name": "stdout",
     "output_type": "stream",
     "text": [
      "Script executed successfully for range 121\n"
     ]
    },
    {
     "name": "stderr",
     "output_type": "stream",
     "text": [
      "Loading generations: 128it [00:00, 47956.31it/s]\n"
     ]
    },
    {
     "name": "stdout",
     "output_type": "stream",
     "text": [
      "Taking majority on 128 problems.\n"
     ]
    },
    {
     "name": "stderr",
     "output_type": "stream",
     "text": [
      "100%|██████████| 128/128 [00:00<00:00, 2138927.94it/s]\n",
      " 27%|██▋       | 14/52 [02:52<07:50, 12.37s/it]"
     ]
    },
    {
     "name": "stdout",
     "output_type": "stream",
     "text": [
      "Script executed successfully for range 131\n"
     ]
    },
    {
     "name": "stderr",
     "output_type": "stream",
     "text": [
      "Loading generations: 128it [00:00, 44631.38it/s]\n"
     ]
    },
    {
     "name": "stdout",
     "output_type": "stream",
     "text": [
      "Taking majority on 128 problems.\n"
     ]
    },
    {
     "name": "stderr",
     "output_type": "stream",
     "text": [
      "100%|██████████| 128/128 [00:00<00:00, 2304167.00it/s]\n",
      " 29%|██▉       | 15/52 [03:04<07:35, 12.32s/it]"
     ]
    },
    {
     "name": "stdout",
     "output_type": "stream",
     "text": [
      "Script executed successfully for range 141\n"
     ]
    },
    {
     "name": "stderr",
     "output_type": "stream",
     "text": [
      "Loading generations: 128it [00:00, 44918.92it/s]\n"
     ]
    },
    {
     "name": "stdout",
     "output_type": "stream",
     "text": [
      "Taking majority on 128 problems.\n"
     ]
    },
    {
     "name": "stderr",
     "output_type": "stream",
     "text": [
      "100%|██████████| 128/128 [00:00<00:00, 2156108.08it/s]\n",
      " 31%|███       | 16/52 [03:17<07:27, 12.42s/it]"
     ]
    },
    {
     "name": "stdout",
     "output_type": "stream",
     "text": [
      "Script executed successfully for range 151\n"
     ]
    },
    {
     "name": "stderr",
     "output_type": "stream",
     "text": [
      "Loading generations: 128it [00:00, 45248.29it/s]\n"
     ]
    },
    {
     "name": "stdout",
     "output_type": "stream",
     "text": [
      "Taking majority on 128 problems.\n"
     ]
    },
    {
     "name": "stderr",
     "output_type": "stream",
     "text": [
      "100%|██████████| 128/128 [00:00<00:00, 2147483.65it/s]\n",
      " 33%|███▎      | 17/52 [03:29<07:11, 12.31s/it]"
     ]
    },
    {
     "name": "stdout",
     "output_type": "stream",
     "text": [
      "Script executed successfully for range 161\n"
     ]
    },
    {
     "name": "stderr",
     "output_type": "stream",
     "text": [
      "Loading generations: 128it [00:00, 46039.87it/s]\n"
     ]
    },
    {
     "name": "stdout",
     "output_type": "stream",
     "text": [
      "Taking majority on 128 problems.\n"
     ]
    },
    {
     "name": "stderr",
     "output_type": "stream",
     "text": [
      "100%|██████████| 128/128 [00:00<00:00, 2246321.81it/s]\n",
      " 35%|███▍      | 18/52 [03:41<07:03, 12.44s/it]"
     ]
    },
    {
     "name": "stdout",
     "output_type": "stream",
     "text": [
      "Script executed successfully for range 171\n"
     ]
    },
    {
     "name": "stderr",
     "output_type": "stream",
     "text": [
      "Loading generations: 128it [00:00, 44802.71it/s]\n"
     ]
    },
    {
     "name": "stdout",
     "output_type": "stream",
     "text": [
      "Taking majority on 128 problems.\n"
     ]
    },
    {
     "name": "stderr",
     "output_type": "stream",
     "text": [
      "100%|██████████| 128/128 [00:00<00:00, 2209345.32it/s]\n",
      " 37%|███▋      | 19/52 [03:54<06:50, 12.44s/it]"
     ]
    },
    {
     "name": "stdout",
     "output_type": "stream",
     "text": [
      "Script executed successfully for range 181\n"
     ]
    },
    {
     "name": "stderr",
     "output_type": "stream",
     "text": [
      "Loading generations: 128it [00:00, 46458.20it/s]\n"
     ]
    },
    {
     "name": "stdout",
     "output_type": "stream",
     "text": [
      "Taking majority on 128 problems.\n"
     ]
    },
    {
     "name": "stderr",
     "output_type": "stream",
     "text": [
      "100%|██████████| 128/128 [00:00<00:00, 2236962.13it/s]\n",
      " 38%|███▊      | 20/52 [04:06<06:37, 12.44s/it]"
     ]
    },
    {
     "name": "stdout",
     "output_type": "stream",
     "text": [
      "Script executed successfully for range 191\n"
     ]
    },
    {
     "name": "stderr",
     "output_type": "stream",
     "text": [
      "Loading generations: 128it [00:00, 45968.91it/s]\n"
     ]
    },
    {
     "name": "stdout",
     "output_type": "stream",
     "text": [
      "Taking majority on 128 problems.\n"
     ]
    },
    {
     "name": "stderr",
     "output_type": "stream",
     "text": [
      "100%|██████████| 128/128 [00:00<00:00, 2227680.13it/s]\n",
      " 40%|████      | 21/52 [04:18<06:19, 12.25s/it]"
     ]
    },
    {
     "name": "stdout",
     "output_type": "stream",
     "text": [
      "Script executed successfully for range 201\n"
     ]
    },
    {
     "name": "stderr",
     "output_type": "stream",
     "text": [
      "Loading generations: 128it [00:00, 45964.98it/s]\n"
     ]
    },
    {
     "name": "stdout",
     "output_type": "stream",
     "text": [
      "Taking majority on 128 problems.\n"
     ]
    },
    {
     "name": "stderr",
     "output_type": "stream",
     "text": [
      "100%|██████████| 128/128 [00:00<00:00, 2191309.84it/s]\n",
      " 42%|████▏     | 22/52 [04:30<06:04, 12.16s/it]"
     ]
    },
    {
     "name": "stdout",
     "output_type": "stream",
     "text": [
      "Script executed successfully for range 211\n"
     ]
    },
    {
     "name": "stderr",
     "output_type": "stream",
     "text": [
      "Loading generations: 128it [00:00, 43415.08it/s]\n"
     ]
    },
    {
     "name": "stdout",
     "output_type": "stream",
     "text": [
      "Taking majority on 128 problems.\n"
     ]
    },
    {
     "name": "stderr",
     "output_type": "stream",
     "text": [
      "100%|██████████| 128/128 [00:00<00:00, 2122019.42it/s]\n",
      " 44%|████▍     | 23/52 [04:43<05:57, 12.33s/it]"
     ]
    },
    {
     "name": "stdout",
     "output_type": "stream",
     "text": [
      "Script executed successfully for range 221\n"
     ]
    },
    {
     "name": "stderr",
     "output_type": "stream",
     "text": [
      "Loading generations: 128it [00:00, 45065.97it/s]\n"
     ]
    },
    {
     "name": "stdout",
     "output_type": "stream",
     "text": [
      "Taking majority on 128 problems.\n"
     ]
    },
    {
     "name": "stderr",
     "output_type": "stream",
     "text": [
      "100%|██████████| 128/128 [00:00<00:00, 2156108.08it/s]\n",
      " 46%|████▌     | 24/52 [04:55<05:47, 12.41s/it]"
     ]
    },
    {
     "name": "stdout",
     "output_type": "stream",
     "text": [
      "Script executed successfully for range 231\n"
     ]
    },
    {
     "name": "stderr",
     "output_type": "stream",
     "text": [
      "Loading generations: 128it [00:00, 46639.82it/s]\n"
     ]
    },
    {
     "name": "stdout",
     "output_type": "stream",
     "text": [
      "Taking majority on 128 problems.\n"
     ]
    },
    {
     "name": "stderr",
     "output_type": "stream",
     "text": [
      "100%|██████████| 128/128 [00:00<00:00, 2344414.46it/s]\n",
      " 48%|████▊     | 25/52 [05:08<05:37, 12.51s/it]"
     ]
    },
    {
     "name": "stdout",
     "output_type": "stream",
     "text": [
      "Script executed successfully for range 241\n"
     ]
    },
    {
     "name": "stderr",
     "output_type": "stream",
     "text": [
      "Loading generations: 128it [00:00, 45324.69it/s]\n"
     ]
    },
    {
     "name": "stdout",
     "output_type": "stream",
     "text": [
      "Taking majority on 128 problems.\n"
     ]
    },
    {
     "name": "stderr",
     "output_type": "stream",
     "text": [
      "100%|██████████| 128/128 [00:00<00:00, 1981073.48it/s]\n",
      " 50%|█████     | 26/52 [05:21<05:26, 12.56s/it]"
     ]
    },
    {
     "name": "stdout",
     "output_type": "stream",
     "text": [
      "Script executed successfully for range 251\n"
     ]
    },
    {
     "name": "stderr",
     "output_type": "stream",
     "text": [
      "Loading generations: 128it [00:00, 44997.98it/s]\n"
     ]
    },
    {
     "name": "stdout",
     "output_type": "stream",
     "text": [
      "Taking majority on 128 problems.\n"
     ]
    },
    {
     "name": "stderr",
     "output_type": "stream",
     "text": [
      "100%|██████████| 128/128 [00:00<00:00, 2182402.08it/s]\n",
      " 52%|█████▏    | 27/52 [05:33<05:13, 12.54s/it]"
     ]
    },
    {
     "name": "stdout",
     "output_type": "stream",
     "text": [
      "Script executed successfully for range 261\n"
     ]
    },
    {
     "name": "stderr",
     "output_type": "stream",
     "text": [
      "Loading generations: 128it [00:00, 44564.70it/s]\n"
     ]
    },
    {
     "name": "stdout",
     "output_type": "stream",
     "text": [
      "Taking majority on 128 problems.\n"
     ]
    },
    {
     "name": "stderr",
     "output_type": "stream",
     "text": [
      "100%|██████████| 128/128 [00:00<00:00, 2255760.13it/s]\n",
      " 54%|█████▍    | 28/52 [05:46<05:01, 12.55s/it]"
     ]
    },
    {
     "name": "stdout",
     "output_type": "stream",
     "text": [
      "Script executed successfully for range 271\n"
     ]
    },
    {
     "name": "stderr",
     "output_type": "stream",
     "text": [
      "Loading generations: 128it [00:00, 46599.33it/s]\n"
     ]
    },
    {
     "name": "stdout",
     "output_type": "stream",
     "text": [
      "Taking majority on 128 problems.\n"
     ]
    },
    {
     "name": "stderr",
     "output_type": "stream",
     "text": [
      "100%|██████████| 128/128 [00:00<00:00, 2056976.67it/s]\n",
      " 56%|█████▌    | 29/52 [05:59<04:49, 12.58s/it]"
     ]
    },
    {
     "name": "stdout",
     "output_type": "stream",
     "text": [
      "Script executed successfully for range 281\n"
     ]
    },
    {
     "name": "stderr",
     "output_type": "stream",
     "text": [
      "Loading generations: 128it [00:00, 46502.46it/s]\n"
     ]
    },
    {
     "name": "stdout",
     "output_type": "stream",
     "text": [
      "Taking majority on 128 problems.\n"
     ]
    },
    {
     "name": "stderr",
     "output_type": "stream",
     "text": [
      "100%|██████████| 128/128 [00:00<00:00, 2173566.45it/s]\n",
      " 58%|█████▊    | 30/52 [06:11<04:35, 12.54s/it]"
     ]
    },
    {
     "name": "stdout",
     "output_type": "stream",
     "text": [
      "Script executed successfully for range 291\n"
     ]
    },
    {
     "name": "stderr",
     "output_type": "stream",
     "text": [
      "Loading generations: 128it [00:00, 46494.41it/s]\n"
     ]
    },
    {
     "name": "stdout",
     "output_type": "stream",
     "text": [
      "Taking majority on 128 problems.\n"
     ]
    },
    {
     "name": "stderr",
     "output_type": "stream",
     "text": [
      "100%|██████████| 128/128 [00:00<00:00, 2130440.13it/s]\n",
      " 60%|█████▉    | 31/52 [06:23<04:21, 12.45s/it]"
     ]
    },
    {
     "name": "stdout",
     "output_type": "stream",
     "text": [
      "Script executed successfully for range 301\n"
     ]
    },
    {
     "name": "stderr",
     "output_type": "stream",
     "text": [
      "Loading generations: 128it [00:00, 46329.90it/s]\n"
     ]
    },
    {
     "name": "stdout",
     "output_type": "stream",
     "text": [
      "Taking majority on 128 problems.\n"
     ]
    },
    {
     "name": "stderr",
     "output_type": "stream",
     "text": [
      "100%|██████████| 128/128 [00:00<00:00, 2147483.65it/s]\n",
      " 62%|██████▏   | 32/52 [06:36<04:08, 12.43s/it]"
     ]
    },
    {
     "name": "stdout",
     "output_type": "stream",
     "text": [
      "Script executed successfully for range 311\n"
     ]
    },
    {
     "name": "stderr",
     "output_type": "stream",
     "text": [
      "Loading generations: 128it [00:00, 46091.25it/s]\n"
     ]
    },
    {
     "name": "stdout",
     "output_type": "stream",
     "text": [
      "Taking majority on 128 problems.\n"
     ]
    },
    {
     "name": "stderr",
     "output_type": "stream",
     "text": [
      "100%|██████████| 128/128 [00:00<00:00, 2173566.45it/s]\n",
      " 63%|██████▎   | 33/52 [06:48<03:57, 12.52s/it]"
     ]
    },
    {
     "name": "stdout",
     "output_type": "stream",
     "text": [
      "Script executed successfully for range 321\n"
     ]
    },
    {
     "name": "stderr",
     "output_type": "stream",
     "text": [
      "Loading generations: 128it [00:00, 45225.42it/s]\n"
     ]
    },
    {
     "name": "stdout",
     "output_type": "stream",
     "text": [
      "Taking majority on 128 problems.\n"
     ]
    },
    {
     "name": "stderr",
     "output_type": "stream",
     "text": [
      "100%|██████████| 128/128 [00:00<00:00, 2246321.81it/s]\n",
      " 65%|██████▌   | 34/52 [07:00<03:42, 12.37s/it]"
     ]
    },
    {
     "name": "stdout",
     "output_type": "stream",
     "text": [
      "Script executed successfully for range 331\n"
     ]
    },
    {
     "name": "stderr",
     "output_type": "stream",
     "text": [
      "Loading generations: 128it [00:00, 45462.86it/s]\n"
     ]
    },
    {
     "name": "stdout",
     "output_type": "stream",
     "text": [
      "Taking majority on 128 problems.\n"
     ]
    },
    {
     "name": "stderr",
     "output_type": "stream",
     "text": [
      "100%|██████████| 128/128 [00:00<00:00, 2265278.11it/s]\n",
      " 67%|██████▋   | 35/52 [07:13<03:31, 12.46s/it]"
     ]
    },
    {
     "name": "stdout",
     "output_type": "stream",
     "text": [
      "Script executed successfully for range 341\n"
     ]
    },
    {
     "name": "stderr",
     "output_type": "stream",
     "text": [
      "Loading generations: 128it [00:00, 46333.90it/s]\n"
     ]
    },
    {
     "name": "stdout",
     "output_type": "stream",
     "text": [
      "Taking majority on 128 problems.\n"
     ]
    },
    {
     "name": "stderr",
     "output_type": "stream",
     "text": [
      "100%|██████████| 128/128 [00:00<00:00, 2200290.62it/s]\n",
      " 69%|██████▉   | 36/52 [07:25<03:17, 12.32s/it]"
     ]
    },
    {
     "name": "stdout",
     "output_type": "stream",
     "text": [
      "Script executed successfully for range 351\n"
     ]
    },
    {
     "name": "stderr",
     "output_type": "stream",
     "text": [
      "Loading generations: 128it [00:00, 45278.82it/s]\n"
     ]
    },
    {
     "name": "stdout",
     "output_type": "stream",
     "text": [
      "Taking majority on 128 problems.\n"
     ]
    },
    {
     "name": "stderr",
     "output_type": "stream",
     "text": [
      "100%|██████████| 128/128 [00:00<00:00, 2200290.62it/s]\n",
      " 71%|███████   | 37/52 [07:37<03:03, 12.25s/it]"
     ]
    },
    {
     "name": "stdout",
     "output_type": "stream",
     "text": [
      "Script executed successfully for range 361\n"
     ]
    },
    {
     "name": "stderr",
     "output_type": "stream",
     "text": [
      "Loading generations: 128it [00:00, 45800.28it/s]\n"
     ]
    },
    {
     "name": "stdout",
     "output_type": "stream",
     "text": [
      "Taking majority on 128 problems.\n"
     ]
    },
    {
     "name": "stderr",
     "output_type": "stream",
     "text": [
      "100%|██████████| 128/128 [00:00<00:00, 1973790.12it/s]\n",
      " 73%|███████▎  | 38/52 [07:49<02:50, 12.17s/it]"
     ]
    },
    {
     "name": "stdout",
     "output_type": "stream",
     "text": [
      "Script executed successfully for range 371\n"
     ]
    },
    {
     "name": "stderr",
     "output_type": "stream",
     "text": [
      "Loading generations: 128it [00:00, 48067.95it/s]\n"
     ]
    },
    {
     "name": "stdout",
     "output_type": "stream",
     "text": [
      "Taking majority on 128 problems.\n"
     ]
    },
    {
     "name": "stderr",
     "output_type": "stream",
     "text": [
      "100%|██████████| 128/128 [00:00<00:00, 2147483.65it/s]\n",
      " 75%|███████▌  | 39/52 [08:01<02:38, 12.23s/it]"
     ]
    },
    {
     "name": "stdout",
     "output_type": "stream",
     "text": [
      "Script executed successfully for range 381\n"
     ]
    },
    {
     "name": "stderr",
     "output_type": "stream",
     "text": [
      "Loading generations: 128it [00:00, 47789.83it/s]\n"
     ]
    },
    {
     "name": "stdout",
     "output_type": "stream",
     "text": [
      "Taking majority on 128 problems.\n"
     ]
    },
    {
     "name": "stderr",
     "output_type": "stream",
     "text": [
      "100%|██████████| 128/128 [00:00<00:00, 2113665.01it/s]\n",
      " 77%|███████▋  | 40/52 [08:13<02:25, 12.13s/it]"
     ]
    },
    {
     "name": "stdout",
     "output_type": "stream",
     "text": [
      "Script executed successfully for range 391\n"
     ]
    },
    {
     "name": "stderr",
     "output_type": "stream",
     "text": [
      "Loading generations: 128it [00:00, 46305.93it/s]\n"
     ]
    },
    {
     "name": "stdout",
     "output_type": "stream",
     "text": [
      "Taking majority on 128 problems.\n"
     ]
    },
    {
     "name": "stderr",
     "output_type": "stream",
     "text": [
      "100%|██████████| 128/128 [00:00<00:00, 2041334.27it/s]\n",
      " 79%|███████▉  | 41/52 [08:25<02:12, 12.05s/it]"
     ]
    },
    {
     "name": "stdout",
     "output_type": "stream",
     "text": [
      "Script executed successfully for range 401\n"
     ]
    },
    {
     "name": "stderr",
     "output_type": "stream",
     "text": [
      "Loading generations: 128it [00:00, 47422.57it/s]\n"
     ]
    },
    {
     "name": "stdout",
     "output_type": "stream",
     "text": [
      "Taking majority on 128 problems.\n"
     ]
    },
    {
     "name": "stderr",
     "output_type": "stream",
     "text": [
      "100%|██████████| 128/128 [00:00<00:00, 2138927.94it/s]\n",
      " 81%|████████  | 42/52 [08:38<02:01, 12.13s/it]"
     ]
    },
    {
     "name": "stdout",
     "output_type": "stream",
     "text": [
      "Script executed successfully for range 411\n"
     ]
    },
    {
     "name": "stderr",
     "output_type": "stream",
     "text": [
      "Loading generations: 128it [00:00, 45401.35it/s]\n"
     ]
    },
    {
     "name": "stdout",
     "output_type": "stream",
     "text": [
      "Taking majority on 128 problems.\n"
     ]
    },
    {
     "name": "stderr",
     "output_type": "stream",
     "text": [
      "100%|██████████| 128/128 [00:00<00:00, 2294320.14it/s]\n",
      " 83%|████████▎ | 43/52 [08:50<01:50, 12.31s/it]"
     ]
    },
    {
     "name": "stdout",
     "output_type": "stream",
     "text": [
      "Script executed successfully for range 421\n"
     ]
    },
    {
     "name": "stderr",
     "output_type": "stream",
     "text": [
      "Loading generations: 128it [00:00, 46851.46it/s]\n"
     ]
    },
    {
     "name": "stdout",
     "output_type": "stream",
     "text": [
      "Taking majority on 128 problems.\n"
     ]
    },
    {
     "name": "stderr",
     "output_type": "stream",
     "text": [
      "100%|██████████| 128/128 [00:00<00:00, 2138927.94it/s]\n",
      " 85%|████████▍ | 44/52 [09:03<01:39, 12.45s/it]"
     ]
    },
    {
     "name": "stdout",
     "output_type": "stream",
     "text": [
      "Script executed successfully for range 431\n"
     ]
    },
    {
     "name": "stderr",
     "output_type": "stream",
     "text": [
      "Loading generations: 128it [00:00, 45870.72it/s]\n"
     ]
    },
    {
     "name": "stdout",
     "output_type": "stream",
     "text": [
      "Taking majority on 128 problems.\n"
     ]
    },
    {
     "name": "stderr",
     "output_type": "stream",
     "text": [
      "100%|██████████| 128/128 [00:00<00:00, 2304167.00it/s]\n",
      " 87%|████████▋ | 45/52 [09:16<01:27, 12.48s/it]"
     ]
    },
    {
     "name": "stdout",
     "output_type": "stream",
     "text": [
      "Script executed successfully for range 441\n"
     ]
    },
    {
     "name": "stderr",
     "output_type": "stream",
     "text": [
      "Loading generations: 128it [00:00, 45675.59it/s]\n"
     ]
    },
    {
     "name": "stdout",
     "output_type": "stream",
     "text": [
      "Taking majority on 128 problems.\n"
     ]
    },
    {
     "name": "stderr",
     "output_type": "stream",
     "text": [
      "100%|██████████| 128/128 [00:00<00:00, 1897070.36it/s]\n",
      " 88%|████████▊ | 46/52 [09:28<01:15, 12.51s/it]"
     ]
    },
    {
     "name": "stdout",
     "output_type": "stream",
     "text": [
      "Script executed successfully for range 451\n"
     ]
    },
    {
     "name": "stderr",
     "output_type": "stream",
     "text": [
      "Loading generations: 128it [00:00, 47343.11it/s]\n"
     ]
    },
    {
     "name": "stdout",
     "output_type": "stream",
     "text": [
      "Taking majority on 128 problems.\n"
     ]
    },
    {
     "name": "stderr",
     "output_type": "stream",
     "text": [
      "100%|██████████| 128/128 [00:00<00:00, 2354696.98it/s]\n",
      " 90%|█████████ | 47/52 [09:41<01:02, 12.45s/it]"
     ]
    },
    {
     "name": "stdout",
     "output_type": "stream",
     "text": [
      "Script executed successfully for range 461\n"
     ]
    },
    {
     "name": "stderr",
     "output_type": "stream",
     "text": [
      "Loading generations: 128it [00:00, 46765.76it/s]\n"
     ]
    },
    {
     "name": "stdout",
     "output_type": "stream",
     "text": [
      "Taking majority on 128 problems.\n"
     ]
    },
    {
     "name": "stderr",
     "output_type": "stream",
     "text": [
      "100%|██████████| 128/128 [00:00<00:00, 2644684.30it/s]\n",
      " 92%|█████████▏| 48/52 [09:52<00:49, 12.31s/it]"
     ]
    },
    {
     "name": "stdout",
     "output_type": "stream",
     "text": [
      "Script executed successfully for range 471\n"
     ]
    },
    {
     "name": "stderr",
     "output_type": "stream",
     "text": [
      "Loading generations: 128it [00:00, 47143.56it/s]\n"
     ]
    },
    {
     "name": "stdout",
     "output_type": "stream",
     "text": [
      "Taking majority on 128 problems.\n"
     ]
    },
    {
     "name": "stderr",
     "output_type": "stream",
     "text": [
      "100%|██████████| 128/128 [00:00<00:00, 2670999.56it/s]\n",
      " 94%|█████████▍| 49/52 [10:05<00:37, 12.34s/it]"
     ]
    },
    {
     "name": "stdout",
     "output_type": "stream",
     "text": [
      "Script executed successfully for range 481\n"
     ]
    },
    {
     "name": "stderr",
     "output_type": "stream",
     "text": [
      "Loading generations: 128it [00:00, 48620.80it/s]\n"
     ]
    },
    {
     "name": "stdout",
     "output_type": "stream",
     "text": [
      "Taking majority on 128 problems.\n"
     ]
    },
    {
     "name": "stderr",
     "output_type": "stream",
     "text": [
      "100%|██████████| 128/128 [00:00<00:00, 2105376.13it/s]\n",
      " 96%|█████████▌| 50/52 [10:18<00:24, 12.46s/it]"
     ]
    },
    {
     "name": "stdout",
     "output_type": "stream",
     "text": [
      "Script executed successfully for range 491\n"
     ]
    },
    {
     "name": "stderr",
     "output_type": "stream",
     "text": [
      "Loading generations: 128it [00:00, 48590.00it/s]\n"
     ]
    },
    {
     "name": "stdout",
     "output_type": "stream",
     "text": [
      "Taking majority on 128 problems.\n"
     ]
    },
    {
     "name": "stderr",
     "output_type": "stream",
     "text": [
      "100%|██████████| 128/128 [00:00<00:00, 2284557.07it/s]\n",
      " 98%|█████████▊| 51/52 [10:30<00:12, 12.50s/it]"
     ]
    },
    {
     "name": "stdout",
     "output_type": "stream",
     "text": [
      "Script executed successfully for range 501\n"
     ]
    },
    {
     "name": "stderr",
     "output_type": "stream",
     "text": [
      "Loading generations: 128it [00:00, 46587.20it/s]\n"
     ]
    },
    {
     "name": "stdout",
     "output_type": "stream",
     "text": [
      "Taking majority on 128 problems.\n"
     ]
    },
    {
     "name": "stderr",
     "output_type": "stream",
     "text": [
      "100%|██████████| 128/128 [00:00<00:00, 2236962.13it/s]\n",
      "100%|██████████| 52/52 [10:43<00:00, 12.37s/it]"
     ]
    },
    {
     "name": "stdout",
     "output_type": "stream",
     "text": [
      "Script executed successfully for range 511\n"
     ]
    },
    {
     "name": "stderr",
     "output_type": "stream",
     "text": [
      "\n"
     ]
    }
   ],
   "source": [
    "# Turn generated responses into majority vote results, with range of majority as variable\n",
    "\n",
    "import subprocess\n",
    "import os\n",
    "import argparse\n",
    "from tqdm import tqdm\n",
    "\n",
    "# Set environment variables\n",
    "env = os.environ.copy()\n",
    "\n",
    "ranges = list(range(1, 512, 10))\n",
    "\n",
    "for range_count in tqdm(ranges):\n",
    "    command = f'''CUDA_VISIBLE_DEVICES=1 python ../../llmonk/verifier/math_majority.py \\\n",
    "    samples_dir=/home/richard/Downloads/large_language_monkeys/results/math_samples_1 \\\n",
    "    save_dir=/home/richard/Downloads/large_language_monkeys/results/math_majority_1_{range_count} \\\n",
    "    offset=0 \\\n",
    "    stride=1 \\\n",
    "    limit=128 \\\n",
    "    majority_range={range_count} \\\n",
    "    dset=math\n",
    "    '''\n",
    "\n",
    "    result = subprocess.run(command, shell=True, env=env)\n",
    "\n",
    "    if result.returncode == 0:\n",
    "        print(f\"Script executed successfully for range {range_count}\")\n",
    "    else:\n",
    "        print(f\"Script failed with return code {result.returncode} for range {range_count}\")"
   ]
  },
  {
   "cell_type": "code",
   "execution_count": 58,
   "metadata": {},
   "outputs": [
    {
     "name": "stderr",
     "output_type": "stream",
     "text": [
      "Loading generations: 128it [00:00, 47389.08it/s]\n",
      "100%|██████████| 128/128 [00:00<00:00, 2072860.66it/s]\n"
     ]
    },
    {
     "name": "stdout",
     "output_type": "stream",
     "text": [
      "Evaling on 128 problems.\n"
     ]
    },
    {
     "name": "stderr",
     "output_type": "stream",
     "text": [
      "  2%|▏         | 1/52 [00:04<03:33,  4.18s/it]"
     ]
    },
    {
     "name": "stdout",
     "output_type": "stream",
     "text": [
      "Script executed successfully for range 1\n"
     ]
    },
    {
     "name": "stderr",
     "output_type": "stream",
     "text": [
      "Loading generations: 128it [00:00, 47410.01it/s]\n",
      "100%|██████████| 128/128 [00:00<00:00, 2080895.01it/s]\n"
     ]
    },
    {
     "name": "stdout",
     "output_type": "stream",
     "text": [
      "Evaling on 128 problems.\n"
     ]
    },
    {
     "name": "stderr",
     "output_type": "stream",
     "text": [
      "  4%|▍         | 2/52 [00:08<03:29,  4.20s/it]"
     ]
    },
    {
     "name": "stdout",
     "output_type": "stream",
     "text": [
      "Script executed successfully for range 11\n"
     ]
    },
    {
     "name": "stderr",
     "output_type": "stream",
     "text": [
      "Loading generations: 128it [00:00, 44802.71it/s]\n",
      "100%|██████████| 128/128 [00:00<00:00, 2049125.62it/s]\n"
     ]
    },
    {
     "name": "stdout",
     "output_type": "stream",
     "text": [
      "Evaling on 128 problems.\n"
     ]
    },
    {
     "name": "stderr",
     "output_type": "stream",
     "text": [
      "  6%|▌         | 3/52 [00:12<03:28,  4.25s/it]"
     ]
    },
    {
     "name": "stdout",
     "output_type": "stream",
     "text": [
      "Script executed successfully for range 21\n"
     ]
    },
    {
     "name": "stderr",
     "output_type": "stream",
     "text": [
      "Loading generations: 128it [00:00, 47679.48it/s]\n",
      "100%|██████████| 128/128 [00:00<00:00, 2072860.66it/s]\n"
     ]
    },
    {
     "name": "stdout",
     "output_type": "stream",
     "text": [
      "Evaling on 128 problems.\n"
     ]
    },
    {
     "name": "stderr",
     "output_type": "stream",
     "text": [
      "  8%|▊         | 4/52 [00:16<03:23,  4.23s/it]"
     ]
    },
    {
     "name": "stdout",
     "output_type": "stream",
     "text": [
      "Script executed successfully for range 31\n"
     ]
    },
    {
     "name": "stderr",
     "output_type": "stream",
     "text": [
      "Loading generations: 128it [00:00, 46929.28it/s]\n",
      "100%|██████████| 128/128 [00:00<00:00, 2080895.01it/s]\n"
     ]
    },
    {
     "name": "stdout",
     "output_type": "stream",
     "text": [
      "Evaling on 128 problems.\n"
     ]
    },
    {
     "name": "stderr",
     "output_type": "stream",
     "text": [
      " 10%|▉         | 5/52 [00:21<03:17,  4.20s/it]"
     ]
    },
    {
     "name": "stdout",
     "output_type": "stream",
     "text": [
      "Script executed successfully for range 41\n"
     ]
    },
    {
     "name": "stderr",
     "output_type": "stream",
     "text": [
      "Loading generations: 128it [00:00, 46454.18it/s]\n",
      "100%|██████████| 128/128 [00:00<00:00, 2041334.27it/s]\n"
     ]
    },
    {
     "name": "stdout",
     "output_type": "stream",
     "text": [
      "Evaling on 128 problems.\n"
     ]
    },
    {
     "name": "stderr",
     "output_type": "stream",
     "text": [
      " 12%|█▏        | 6/52 [00:25<03:12,  4.18s/it]"
     ]
    },
    {
     "name": "stdout",
     "output_type": "stream",
     "text": [
      "Script executed successfully for range 51\n"
     ]
    },
    {
     "name": "stderr",
     "output_type": "stream",
     "text": [
      "Loading generations: 128it [00:00, 47023.82it/s]\n",
      "100%|██████████| 128/128 [00:00<00:00, 2284557.07it/s]\n"
     ]
    },
    {
     "name": "stdout",
     "output_type": "stream",
     "text": [
      "Evaling on 128 problems.\n"
     ]
    },
    {
     "name": "stderr",
     "output_type": "stream",
     "text": [
      " 13%|█▎        | 7/52 [00:29<03:07,  4.17s/it]"
     ]
    },
    {
     "name": "stdout",
     "output_type": "stream",
     "text": [
      "Script executed successfully for range 61\n"
     ]
    },
    {
     "name": "stderr",
     "output_type": "stream",
     "text": [
      "Loading generations: 128it [00:00, 46550.85it/s]\n",
      "100%|██████████| 128/128 [00:00<00:00, 2191309.84it/s]\n"
     ]
    },
    {
     "name": "stdout",
     "output_type": "stream",
     "text": [
      "Evaling on 128 problems.\n"
     ]
    },
    {
     "name": "stderr",
     "output_type": "stream",
     "text": [
      " 15%|█▌        | 8/52 [00:33<03:03,  4.16s/it]"
     ]
    },
    {
     "name": "stdout",
     "output_type": "stream",
     "text": [
      "Script executed successfully for range 71\n"
     ]
    },
    {
     "name": "stderr",
     "output_type": "stream",
     "text": [
      "Loading generations: 128it [00:00, 47561.21it/s]\n",
      "100%|██████████| 128/128 [00:00<00:00, 1720740.10it/s]\n"
     ]
    },
    {
     "name": "stdout",
     "output_type": "stream",
     "text": [
      "Evaling on 128 problems.\n"
     ]
    },
    {
     "name": "stderr",
     "output_type": "stream",
     "text": [
      " 17%|█▋        | 9/52 [00:37<02:58,  4.16s/it]"
     ]
    },
    {
     "name": "stdout",
     "output_type": "stream",
     "text": [
      "Script executed successfully for range 81\n"
     ]
    },
    {
     "name": "stderr",
     "output_type": "stream",
     "text": [
      "Loading generations: 128it [00:00, 47590.72it/s]\n",
      "100%|██████████| 128/128 [00:00<00:00, 2088991.88it/s]\n"
     ]
    },
    {
     "name": "stdout",
     "output_type": "stream",
     "text": [
      "Evaling on 128 problems.\n"
     ]
    },
    {
     "name": "stderr",
     "output_type": "stream",
     "text": [
      " 19%|█▉        | 10/52 [00:41<02:55,  4.17s/it]"
     ]
    },
    {
     "name": "stdout",
     "output_type": "stream",
     "text": [
      "Script executed successfully for range 91\n"
     ]
    },
    {
     "name": "stderr",
     "output_type": "stream",
     "text": [
      "Loading generations: 128it [00:00, 48546.06it/s]\n",
      "100%|██████████| 128/128 [00:00<00:00, 2236962.13it/s]\n"
     ]
    },
    {
     "name": "stdout",
     "output_type": "stream",
     "text": [
      "Evaling on 128 problems.\n"
     ]
    },
    {
     "name": "stderr",
     "output_type": "stream",
     "text": [
      " 21%|██        | 11/52 [00:46<02:51,  4.17s/it]"
     ]
    },
    {
     "name": "stdout",
     "output_type": "stream",
     "text": [
      "Script executed successfully for range 101\n"
     ]
    },
    {
     "name": "stderr",
     "output_type": "stream",
     "text": [
      "Loading generations: 128it [00:00, 44088.93it/s]\n",
      "100%|██████████| 128/128 [00:00<00:00, 2064888.12it/s]\n"
     ]
    },
    {
     "name": "stdout",
     "output_type": "stream",
     "text": [
      "Evaling on 128 problems.\n"
     ]
    },
    {
     "name": "stderr",
     "output_type": "stream",
     "text": [
      " 23%|██▎       | 12/52 [00:50<02:48,  4.22s/it]"
     ]
    },
    {
     "name": "stdout",
     "output_type": "stream",
     "text": [
      "Script executed successfully for range 111\n"
     ]
    },
    {
     "name": "stderr",
     "output_type": "stream",
     "text": [
      "Loading generations: 128it [00:00, 46103.13it/s]\n",
      "100%|██████████| 128/128 [00:00<00:00, 2200290.62it/s]\n"
     ]
    },
    {
     "name": "stdout",
     "output_type": "stream",
     "text": [
      "Evaling on 128 problems.\n"
     ]
    },
    {
     "name": "stderr",
     "output_type": "stream",
     "text": [
      " 25%|██▌       | 13/52 [00:54<02:44,  4.23s/it]"
     ]
    },
    {
     "name": "stdout",
     "output_type": "stream",
     "text": [
      "Script executed successfully for range 121\n"
     ]
    },
    {
     "name": "stderr",
     "output_type": "stream",
     "text": [
      "Loading generations: 128it [00:00, 46773.91it/s]\n",
      "100%|██████████| 128/128 [00:00<00:00, 2265278.11it/s]\n"
     ]
    },
    {
     "name": "stdout",
     "output_type": "stream",
     "text": [
      "Evaling on 128 problems.\n"
     ]
    },
    {
     "name": "stderr",
     "output_type": "stream",
     "text": [
      " 27%|██▋       | 14/52 [00:58<02:40,  4.23s/it]"
     ]
    },
    {
     "name": "stdout",
     "output_type": "stream",
     "text": [
      "Script executed successfully for range 131\n"
     ]
    },
    {
     "name": "stderr",
     "output_type": "stream",
     "text": [
      "Loading generations: 128it [00:00, 45710.59it/s]\n",
      "100%|██████████| 128/128 [00:00<00:00, 2173566.45it/s]\n"
     ]
    },
    {
     "name": "stdout",
     "output_type": "stream",
     "text": [
      "Evaling on 128 problems.\n"
     ]
    },
    {
     "name": "stderr",
     "output_type": "stream",
     "text": [
      " 29%|██▉       | 15/52 [01:02<02:35,  4.20s/it]"
     ]
    },
    {
     "name": "stdout",
     "output_type": "stream",
     "text": [
      "Script executed successfully for range 141\n"
     ]
    },
    {
     "name": "stderr",
     "output_type": "stream",
     "text": [
      "Loading generations: 128it [00:00, 48458.43it/s]\n",
      "100%|██████████| 128/128 [00:00<00:00, 2218474.84it/s]\n"
     ]
    },
    {
     "name": "stdout",
     "output_type": "stream",
     "text": [
      "Evaling on 128 problems.\n"
     ]
    },
    {
     "name": "stderr",
     "output_type": "stream",
     "text": [
      " 31%|███       | 16/52 [01:07<02:31,  4.20s/it]"
     ]
    },
    {
     "name": "stdout",
     "output_type": "stream",
     "text": [
      "Script executed successfully for range 151\n"
     ]
    },
    {
     "name": "stderr",
     "output_type": "stream",
     "text": [
      "Loading generations: 128it [00:00, 47892.14it/s]\n",
      "100%|██████████| 128/128 [00:00<00:00, 2200290.62it/s]\n"
     ]
    },
    {
     "name": "stdout",
     "output_type": "stream",
     "text": [
      "Evaling on 128 problems.\n"
     ]
    },
    {
     "name": "stderr",
     "output_type": "stream",
     "text": [
      " 33%|███▎      | 17/52 [01:11<02:26,  4.19s/it]"
     ]
    },
    {
     "name": "stdout",
     "output_type": "stream",
     "text": [
      "Script executed successfully for range 161\n"
     ]
    },
    {
     "name": "stderr",
     "output_type": "stream",
     "text": [
      "Loading generations: 128it [00:00, 47472.89it/s]\n",
      "100%|██████████| 128/128 [00:00<00:00, 2156108.08it/s]\n"
     ]
    },
    {
     "name": "stdout",
     "output_type": "stream",
     "text": [
      "Evaling on 128 problems.\n"
     ]
    },
    {
     "name": "stderr",
     "output_type": "stream",
     "text": [
      " 35%|███▍      | 18/52 [01:15<02:21,  4.15s/it]"
     ]
    },
    {
     "name": "stdout",
     "output_type": "stream",
     "text": [
      "Script executed successfully for range 171\n"
     ]
    },
    {
     "name": "stderr",
     "output_type": "stream",
     "text": [
      "Loading generations: 128it [00:00, 45424.39it/s]\n",
      "100%|██████████| 128/128 [00:00<00:00, 2265278.11it/s]\n"
     ]
    },
    {
     "name": "stdout",
     "output_type": "stream",
     "text": [
      "Evaling on 128 problems.\n"
     ]
    },
    {
     "name": "stderr",
     "output_type": "stream",
     "text": [
      " 37%|███▋      | 19/52 [01:19<02:16,  4.15s/it]"
     ]
    },
    {
     "name": "stdout",
     "output_type": "stream",
     "text": [
      "Script executed successfully for range 181\n"
     ]
    },
    {
     "name": "stderr",
     "output_type": "stream",
     "text": [
      "Loading generations: 128it [00:00, 48003.48it/s]\n",
      "100%|██████████| 128/128 [00:00<00:00, 2130440.13it/s]\n"
     ]
    },
    {
     "name": "stdout",
     "output_type": "stream",
     "text": [
      "Evaling on 128 problems.\n"
     ]
    },
    {
     "name": "stderr",
     "output_type": "stream",
     "text": [
      " 38%|███▊      | 20/52 [01:23<02:12,  4.14s/it]"
     ]
    },
    {
     "name": "stdout",
     "output_type": "stream",
     "text": [
      "Script executed successfully for range 191\n"
     ]
    },
    {
     "name": "stderr",
     "output_type": "stream",
     "text": [
      "Loading generations: 128it [00:00, 48957.77it/s]\n",
      "100%|██████████| 128/128 [00:00<00:00, 2209345.32it/s]\n"
     ]
    },
    {
     "name": "stdout",
     "output_type": "stream",
     "text": [
      "Evaling on 128 problems.\n"
     ]
    },
    {
     "name": "stderr",
     "output_type": "stream",
     "text": [
      " 40%|████      | 21/52 [01:27<02:08,  4.15s/it]"
     ]
    },
    {
     "name": "stdout",
     "output_type": "stream",
     "text": [
      "Script executed successfully for range 201\n"
     ]
    },
    {
     "name": "stderr",
     "output_type": "stream",
     "text": [
      "Loading generations: 128it [00:00, 46962.12it/s]\n",
      "100%|██████████| 128/128 [00:00<00:00, 2173566.45it/s]\n"
     ]
    },
    {
     "name": "stdout",
     "output_type": "stream",
     "text": [
      "Evaling on 128 problems.\n"
     ]
    },
    {
     "name": "stderr",
     "output_type": "stream",
     "text": [
      " 42%|████▏     | 22/52 [01:31<02:04,  4.16s/it]"
     ]
    },
    {
     "name": "stdout",
     "output_type": "stream",
     "text": [
      "Script executed successfully for range 211\n"
     ]
    },
    {
     "name": "stderr",
     "output_type": "stream",
     "text": [
      "Loading generations: 128it [00:00, 47755.82it/s]\n",
      "100%|██████████| 128/128 [00:00<00:00, 2284557.07it/s]\n"
     ]
    },
    {
     "name": "stdout",
     "output_type": "stream",
     "text": [
      "Evaling on 128 problems.\n"
     ]
    },
    {
     "name": "stderr",
     "output_type": "stream",
     "text": [
      " 44%|████▍     | 23/52 [01:36<02:00,  4.16s/it]"
     ]
    },
    {
     "name": "stdout",
     "output_type": "stream",
     "text": [
      "Script executed successfully for range 221\n"
     ]
    },
    {
     "name": "stderr",
     "output_type": "stream",
     "text": [
      "Loading generations: 128it [00:00, 46970.33it/s]\n",
      "100%|██████████| 128/128 [00:00<00:00, 2218474.84it/s]\n"
     ]
    },
    {
     "name": "stdout",
     "output_type": "stream",
     "text": [
      "Evaling on 128 problems.\n"
     ]
    },
    {
     "name": "stderr",
     "output_type": "stream",
     "text": [
      " 46%|████▌     | 24/52 [01:40<01:56,  4.16s/it]"
     ]
    },
    {
     "name": "stdout",
     "output_type": "stream",
     "text": [
      "Script executed successfully for range 231\n"
     ]
    },
    {
     "name": "stderr",
     "output_type": "stream",
     "text": [
      "Loading generations: 128it [00:00, 46426.06it/s]\n",
      "100%|██████████| 128/128 [00:00<00:00, 2122019.42it/s]\n"
     ]
    },
    {
     "name": "stdout",
     "output_type": "stream",
     "text": [
      "Evaling on 128 problems.\n"
     ]
    },
    {
     "name": "stderr",
     "output_type": "stream",
     "text": [
      " 48%|████▊     | 25/52 [01:44<01:52,  4.15s/it]"
     ]
    },
    {
     "name": "stdout",
     "output_type": "stream",
     "text": [
      "Script executed successfully for range 241\n"
     ]
    },
    {
     "name": "stderr",
     "output_type": "stream",
     "text": [
      "Loading generations: 128it [00:00, 47222.35it/s]\n",
      "100%|██████████| 128/128 [00:00<00:00, 2049125.62it/s]\n"
     ]
    },
    {
     "name": "stdout",
     "output_type": "stream",
     "text": [
      "Evaling on 128 problems.\n"
     ]
    },
    {
     "name": "stderr",
     "output_type": "stream",
     "text": [
      " 50%|█████     | 26/52 [01:48<01:47,  4.15s/it]"
     ]
    },
    {
     "name": "stdout",
     "output_type": "stream",
     "text": [
      "Script executed successfully for range 251\n"
     ]
    },
    {
     "name": "stderr",
     "output_type": "stream",
     "text": [
      "Loading generations: 128it [00:00, 48926.54it/s]\n",
      "100%|██████████| 128/128 [00:00<00:00, 2164802.06it/s]\n"
     ]
    },
    {
     "name": "stdout",
     "output_type": "stream",
     "text": [
      "Evaling on 128 problems.\n"
     ]
    },
    {
     "name": "stderr",
     "output_type": "stream",
     "text": [
      " 52%|█████▏    | 27/52 [01:52<01:43,  4.16s/it]"
     ]
    },
    {
     "name": "stdout",
     "output_type": "stream",
     "text": [
      "Script executed successfully for range 261\n"
     ]
    },
    {
     "name": "stderr",
     "output_type": "stream",
     "text": [
      "Loading generations: 128it [00:00, 47263.92it/s]\n",
      "100%|██████████| 128/128 [00:00<00:00, 2018311.70it/s]\n"
     ]
    },
    {
     "name": "stdout",
     "output_type": "stream",
     "text": [
      "Evaling on 128 problems.\n"
     ]
    },
    {
     "name": "stderr",
     "output_type": "stream",
     "text": [
      " 54%|█████▍    | 28/52 [01:56<01:39,  4.15s/it]"
     ]
    },
    {
     "name": "stdout",
     "output_type": "stream",
     "text": [
      "Script executed successfully for range 271\n"
     ]
    },
    {
     "name": "stderr",
     "output_type": "stream",
     "text": [
      "Loading generations: 128it [00:00, 46575.08it/s]\n",
      "100%|██████████| 128/128 [00:00<00:00, 1715242.53it/s]\n"
     ]
    },
    {
     "name": "stdout",
     "output_type": "stream",
     "text": [
      "Evaling on 128 problems.\n"
     ]
    },
    {
     "name": "stderr",
     "output_type": "stream",
     "text": [
      " 56%|█████▌    | 29/52 [02:01<01:35,  4.16s/it]"
     ]
    },
    {
     "name": "stdout",
     "output_type": "stream",
     "text": [
      "Script executed successfully for range 281\n"
     ]
    },
    {
     "name": "stderr",
     "output_type": "stream",
     "text": [
      "Loading generations: 128it [00:00, 45851.13it/s]\n",
      "100%|██████████| 128/128 [00:00<00:00, 2049125.62it/s]\n"
     ]
    },
    {
     "name": "stdout",
     "output_type": "stream",
     "text": [
      "Evaling on 128 problems.\n"
     ]
    },
    {
     "name": "stderr",
     "output_type": "stream",
     "text": [
      " 58%|█████▊    | 30/52 [02:05<01:31,  4.16s/it]"
     ]
    },
    {
     "name": "stdout",
     "output_type": "stream",
     "text": [
      "Script executed successfully for range 291\n"
     ]
    },
    {
     "name": "stderr",
     "output_type": "stream",
     "text": [
      "Loading generations: 128it [00:00, 47364.00it/s]\n",
      "100%|██████████| 128/128 [00:00<00:00, 1771851.19it/s]\n"
     ]
    },
    {
     "name": "stdout",
     "output_type": "stream",
     "text": [
      "Evaling on 128 problems.\n"
     ]
    },
    {
     "name": "stderr",
     "output_type": "stream",
     "text": [
      " 60%|█████▉    | 31/52 [02:09<01:27,  4.16s/it]"
     ]
    },
    {
     "name": "stdout",
     "output_type": "stream",
     "text": [
      "Script executed successfully for range 301\n"
     ]
    },
    {
     "name": "stderr",
     "output_type": "stream",
     "text": [
      "Loading generations: 128it [00:00, 47201.59it/s]\n",
      "100%|██████████| 128/128 [00:00<00:00, 2164802.06it/s]\n"
     ]
    },
    {
     "name": "stdout",
     "output_type": "stream",
     "text": [
      "Evaling on 128 problems.\n"
     ]
    },
    {
     "name": "stderr",
     "output_type": "stream",
     "text": [
      " 62%|██████▏   | 32/52 [02:13<01:22,  4.14s/it]"
     ]
    },
    {
     "name": "stdout",
     "output_type": "stream",
     "text": [
      "Script executed successfully for range 311\n"
     ]
    },
    {
     "name": "stderr",
     "output_type": "stream",
     "text": [
      "Loading generations: 128it [00:00, 47338.94it/s]\n",
      "100%|██████████| 128/128 [00:00<00:00, 2080895.01it/s]\n"
     ]
    },
    {
     "name": "stdout",
     "output_type": "stream",
     "text": [
      "Evaling on 128 problems.\n"
     ]
    },
    {
     "name": "stderr",
     "output_type": "stream",
     "text": [
      " 63%|██████▎   | 33/52 [02:17<01:18,  4.15s/it]"
     ]
    },
    {
     "name": "stdout",
     "output_type": "stream",
     "text": [
      "Script executed successfully for range 321\n"
     ]
    },
    {
     "name": "stderr",
     "output_type": "stream",
     "text": [
      "Loading generations: 128it [00:00, 47359.82it/s]\n",
      "100%|██████████| 128/128 [00:00<00:00, 2088991.88it/s]\n"
     ]
    },
    {
     "name": "stdout",
     "output_type": "stream",
     "text": [
      "Evaling on 128 problems.\n"
     ]
    },
    {
     "name": "stderr",
     "output_type": "stream",
     "text": [
      " 65%|██████▌   | 34/52 [02:21<01:14,  4.13s/it]"
     ]
    },
    {
     "name": "stdout",
     "output_type": "stream",
     "text": [
      "Script executed successfully for range 331\n"
     ]
    },
    {
     "name": "stderr",
     "output_type": "stream",
     "text": [
      "Loading generations: 128it [00:00, 46700.67it/s]\n",
      "100%|██████████| 128/128 [00:00<00:00, 2191309.84it/s]\n"
     ]
    },
    {
     "name": "stdout",
     "output_type": "stream",
     "text": [
      "Evaling on 128 problems.\n"
     ]
    },
    {
     "name": "stderr",
     "output_type": "stream",
     "text": [
      " 67%|██████▋   | 35/52 [02:25<01:10,  4.14s/it]"
     ]
    },
    {
     "name": "stdout",
     "output_type": "stream",
     "text": [
      "Script executed successfully for range 341\n"
     ]
    },
    {
     "name": "stderr",
     "output_type": "stream",
     "text": [
      "Loading generations: 128it [00:00, 45698.92it/s]\n",
      "100%|██████████| 128/128 [00:00<00:00, 2173566.45it/s]\n"
     ]
    },
    {
     "name": "stdout",
     "output_type": "stream",
     "text": [
      "Evaling on 128 problems.\n"
     ]
    },
    {
     "name": "stderr",
     "output_type": "stream",
     "text": [
      " 69%|██████▉   | 36/52 [02:29<01:06,  4.13s/it]"
     ]
    },
    {
     "name": "stdout",
     "output_type": "stream",
     "text": [
      "Script executed successfully for range 351\n"
     ]
    },
    {
     "name": "stderr",
     "output_type": "stream",
     "text": [
      "Loading generations: 128it [00:00, 47389.08it/s]\n",
      "100%|██████████| 128/128 [00:00<00:00, 1715242.53it/s]\n"
     ]
    },
    {
     "name": "stdout",
     "output_type": "stream",
     "text": [
      "Evaling on 128 problems.\n"
     ]
    },
    {
     "name": "stderr",
     "output_type": "stream",
     "text": [
      " 71%|███████   | 37/52 [02:34<01:02,  4.14s/it]"
     ]
    },
    {
     "name": "stdout",
     "output_type": "stream",
     "text": [
      "Script executed successfully for range 361\n"
     ]
    },
    {
     "name": "stderr",
     "output_type": "stream",
     "text": [
      "Loading generations: 128it [00:00, 48362.39it/s]\n",
      "100%|██████████| 128/128 [00:00<00:00, 2324116.50it/s]\n"
     ]
    },
    {
     "name": "stdout",
     "output_type": "stream",
     "text": [
      "Evaling on 128 problems.\n"
     ]
    },
    {
     "name": "stderr",
     "output_type": "stream",
     "text": [
      " 73%|███████▎  | 38/52 [02:38<00:57,  4.13s/it]"
     ]
    },
    {
     "name": "stdout",
     "output_type": "stream",
     "text": [
      "Script executed successfully for range 371\n"
     ]
    },
    {
     "name": "stderr",
     "output_type": "stream",
     "text": [
      "Loading generations: 128it [00:00, 47127.01it/s]\n",
      "100%|██████████| 128/128 [00:00<00:00, 1897070.36it/s]\n"
     ]
    },
    {
     "name": "stdout",
     "output_type": "stream",
     "text": [
      "Evaling on 128 problems.\n"
     ]
    },
    {
     "name": "stderr",
     "output_type": "stream",
     "text": [
      " 75%|███████▌  | 39/52 [02:42<00:53,  4.14s/it]"
     ]
    },
    {
     "name": "stdout",
     "output_type": "stream",
     "text": [
      "Script executed successfully for range 381\n"
     ]
    },
    {
     "name": "stderr",
     "output_type": "stream",
     "text": [
      "Loading generations: 128it [00:00, 47393.27it/s]\n",
      "100%|██████████| 128/128 [00:00<00:00, 2274876.75it/s]\n"
     ]
    },
    {
     "name": "stdout",
     "output_type": "stream",
     "text": [
      "Evaling on 128 problems.\n"
     ]
    },
    {
     "name": "stderr",
     "output_type": "stream",
     "text": [
      " 77%|███████▋  | 40/52 [02:46<00:49,  4.15s/it]"
     ]
    },
    {
     "name": "stdout",
     "output_type": "stream",
     "text": [
      "Script executed successfully for range 391\n"
     ]
    },
    {
     "name": "stderr",
     "output_type": "stream",
     "text": [
      "Loading generations: 128it [00:00, 46603.38it/s]\n",
      "100%|██████████| 128/128 [00:00<00:00, 2236962.13it/s]\n"
     ]
    },
    {
     "name": "stdout",
     "output_type": "stream",
     "text": [
      "Evaling on 128 problems.\n"
     ]
    },
    {
     "name": "stderr",
     "output_type": "stream",
     "text": [
      " 79%|███████▉  | 41/52 [02:50<00:45,  4.15s/it]"
     ]
    },
    {
     "name": "stdout",
     "output_type": "stream",
     "text": [
      "Script executed successfully for range 401\n"
     ]
    },
    {
     "name": "stderr",
     "output_type": "stream",
     "text": [
      "Loading generations: 128it [00:00, 47160.13it/s]\n",
      "100%|██████████| 128/128 [00:00<00:00, 2284557.07it/s]\n"
     ]
    },
    {
     "name": "stdout",
     "output_type": "stream",
     "text": [
      "Evaling on 128 problems.\n"
     ]
    },
    {
     "name": "stderr",
     "output_type": "stream",
     "text": [
      " 81%|████████  | 42/52 [02:54<00:41,  4.16s/it]"
     ]
    },
    {
     "name": "stdout",
     "output_type": "stream",
     "text": [
      "Script executed successfully for range 411\n"
     ]
    },
    {
     "name": "stderr",
     "output_type": "stream",
     "text": [
      "Loading generations: 128it [00:00, 46851.46it/s]\n",
      "100%|██████████| 128/128 [00:00<00:00, 2173566.45it/s]\n"
     ]
    },
    {
     "name": "stdout",
     "output_type": "stream",
     "text": [
      "Evaling on 128 problems.\n"
     ]
    },
    {
     "name": "stderr",
     "output_type": "stream",
     "text": [
      " 83%|████████▎ | 43/52 [02:59<00:37,  4.16s/it]"
     ]
    },
    {
     "name": "stdout",
     "output_type": "stream",
     "text": [
      "Script executed successfully for range 421\n"
     ]
    },
    {
     "name": "stderr",
     "output_type": "stream",
     "text": [
      "Loading generations: 128it [00:00, 46518.58it/s]\n",
      "100%|██████████| 128/128 [00:00<00:00, 2003249.67it/s]\n"
     ]
    },
    {
     "name": "stdout",
     "output_type": "stream",
     "text": [
      "Evaling on 128 problems.\n"
     ]
    },
    {
     "name": "stderr",
     "output_type": "stream",
     "text": [
      " 85%|████████▍ | 44/52 [03:03<00:33,  4.16s/it]"
     ]
    },
    {
     "name": "stdout",
     "output_type": "stream",
     "text": [
      "Script executed successfully for range 431\n"
     ]
    }
   ],
   "source": [
    "# Turn majority vote results into evaluation results\n",
    "\n",
    "import subprocess\n",
    "import os\n",
    "import argparse\n",
    "from tqdm import tqdm\n",
    "\n",
    "# Set environment variables\n",
    "env = os.environ.copy()\n",
    "\n",
    "ranges = list(range(1, 512, 10))\n",
    "\n",
    "for range_count in tqdm(ranges):\n",
    "    command = f'''python ../../llmonk/evaluate/math_datasets_majority.py \\\n",
    "    samples_dir=/home/richard/Downloads/large_language_monkeys/results/math_majority_1_{range_count} \\\n",
    "    save_dir=/home/richard/Downloads/large_language_monkeys/results/math_eval_majority_1_{range_count} \\\n",
    "    offset=0 \\\n",
    "    stride=1 \\\n",
    "    limit=128 \\\n",
    "    dset=math\n",
    "    '''\n",
    "\n",
    "    result = subprocess.run(command, shell=True, env=env)\n",
    "\n",
    "    if result.returncode == 0:\n",
    "        print(f\"Script executed successfully for range {range_count}\")\n",
    "    else:\n",
    "        print(f\"Script failed with return code {result.returncode} for range {range_count}\")"
   ]
  },
  {
   "cell_type": "code",
   "execution_count": null,
   "metadata": {},
   "outputs": [],
   "source": [
    "from pathlib import Path\n",
    "import yaml\n",
    "\n",
    "def load_yaml(path: Path):\n",
    "    with open(path, \"r\") as f:\n",
    "        data = yaml.load(f, Loader=yaml.CLoader)\n",
    "\n",
    "    return data"
   ]
  },
  {
   "cell_type": "code",
   "execution_count": null,
   "metadata": {},
   "outputs": [
    {
     "name": "stderr",
     "output_type": "stream",
     "text": [
      "  0%|          | 0/51 [00:00<?, ?it/s]"
     ]
    },
    {
     "name": "stderr",
     "output_type": "stream",
     "text": [
      "100%|██████████| 51/51 [00:33<00:00,  1.50it/s]\n"
     ]
    }
   ],
   "source": [
    "# Load in the evaluation results as a score dict\n",
    "\n",
    "from pathlib import Path\n",
    "import yaml\n",
    "from tqdm import tqdm\n",
    "\n",
    "# Directory containing YAML files\n",
    "scores = {}\n",
    "\n",
    "for range_count in tqdm(range(2, 512, 10)):\n",
    "    checks_dir = Path(f'/home/richard/Downloads/large_language_monkeys/results/math_eval_majority_1_{range_count}')\n",
    "\n",
    "    # Iterate through all YAML files in the directory\n",
    "    correct_count = 0\n",
    "    total_count = 0\n",
    "\n",
    "    for yaml_file in checks_dir.glob('*.yaml'):\n",
    "        total_count += 1\n",
    "        data = load_yaml(yaml_file)\n",
    "        checks = data['is_corrects']\n",
    "        if True in checks:\n",
    "            correct_count += 1\n",
    "            continue\n",
    "\n",
    "    score = correct_count / total_count\n",
    "    scores[range_count] = score\n",
    "\n"
   ]
  },
  {
   "cell_type": "code",
   "execution_count": null,
   "metadata": {},
   "outputs": [
    {
     "data": {
      "image/png": "[encoded data removed]",
      "text/plain": [
       "<Figure size 800x500 with 1 Axes>"
      ]
     },
     "metadata": {},
     "output_type": "display_data"
    }
   ],
   "source": [
    "# Plot the scores\n",
    "\n",
    "import numpy as np\n",
    "import matplotlib.pyplot as plt\n",
    "from scipy.interpolate import make_interp_spline\n",
    "\n",
    "\n",
    "# Extracting x and y values from the dictionary where key < 512\n",
    "x_vals = [key for key in scores.keys() if key < 512]\n",
    "y_vals = [scores[key] for key in x_vals]\n",
    "\n",
    "# Creating a smooth curve using spline interpolation\n",
    "x_new = np.linspace(min(x_vals), max(x_vals), 300)  # More points for a smoother curve\n",
    "spl = make_interp_spline(x_vals, y_vals, k=3)  # k=3 for cubic spline\n",
    "y_smooth = spl(x_new)\n",
    "\n",
    "# Plotting the graph\n",
    "plt.figure(figsize=(8, 5))\n",
    "plt.plot(x_new, y_smooth, color='blue', label='Success rate(majority)')\n",
    "\n",
    "# Adding annotations and labels\n",
    "plt.xlabel('number of samples(k)')\n",
    "plt.ylabel('success rate')\n",
    "plt.title('Success Rate vs Number of Samples')\n",
    "plt.legend()\n",
    "\n",
    "# Displaying the plot\n",
    "plt.grid(True)\n",
    "plt.show()"
   ]
  },
  {
   "cell_type": "code",
   "execution_count": null,
   "metadata": {},
   "outputs": [],
   "source": []
  },
  {
   "cell_type": "markdown",
   "metadata": {},
   "source": [
    "## Coverage: calculate and plot "
   ]
  },
  {
   "cell_type": "code",
   "execution_count": 35,
   "metadata": {},
   "outputs": [],
   "source": [
    "from pathlib import Path\n",
    "import yaml\n",
    "\n",
    "def load_yaml(path: Path):\n",
    "    with open(path, \"r\") as f:\n",
    "        data = yaml.load(f, Loader=yaml.CLoader)\n",
    "\n",
    "    return data"
   ]
  },
  {
   "cell_type": "code",
   "execution_count": 36,
   "metadata": {},
   "outputs": [
    {
     "name": "stderr",
     "output_type": "stream",
     "text": [
      "  0%|          | 0/52 [00:00<?, ?it/s]"
     ]
    },
    {
     "name": "stderr",
     "output_type": "stream",
     "text": [
      "100%|██████████| 52/52 [00:41<00:00,  1.25it/s]\n"
     ]
    }
   ],
   "source": [
    "# Loading eval results of coverage\n",
    "\n",
    "from pathlib import Path\n",
    "import yaml\n",
    "from tqdm import tqdm\n",
    "\n",
    "# Directory containing YAML files\n",
    "checks_dir = Path('/home/richard/Downloads/large_language_monkeys/results/math_eval_8')\n",
    "\n",
    "\n",
    "# Iterate through all YAML files in the directory\n",
    "x_values = list(range(0, 512, 10))\n",
    "results = {}\n",
    "\n",
    "for x in tqdm(x_values):\n",
    "\n",
    "    correct_count = 0\n",
    "    total_count = 0\n",
    "\n",
    "    for yaml_file in checks_dir.glob('*.yaml'):\n",
    "        total_count += 1\n",
    "        data = load_yaml(yaml_file)\n",
    "        checks = data['is_corrects']\n",
    "        if True in checks[:x]:\n",
    "            correct_count += 1\n",
    "            continue\n",
    "    \n",
    "    results[x] = correct_count/total_count\n"
   ]
  },
  {
   "cell_type": "code",
   "execution_count": 37,
   "metadata": {},
   "outputs": [
    {
     "data": {
      "image/png": "[encoded data removed]",
      "text/plain": [
       "<Figure size 800x500 with 1 Axes>"
      ]
     },
     "metadata": {},
     "output_type": "display_data"
    }
   ],
   "source": [
    "import numpy as np\n",
    "import matplotlib.pyplot as plt\n",
    "from scipy.interpolate import make_interp_spline\n",
    "\n",
    "\n",
    "# Extracting x and y values from the dictionary where key < 512\n",
    "x_vals = [key for key in results.keys() if key < 512]\n",
    "y_vals = [results[key] for key in x_vals]\n",
    "\n",
    "# Creating a smooth curve using spline interpolation\n",
    "x_new = np.linspace(min(x_vals), max(x_vals), 300)  # More points for a smoother curve\n",
    "spl = make_interp_spline(x_vals, y_vals, k=3)  # k=3 for cubic spline\n",
    "y_smooth = spl(x_new)\n",
    "\n",
    "# Plotting the graph\n",
    "plt.figure(figsize=(8, 5))\n",
    "plt.plot(x_new, y_smooth, color='blue', label='coverage(pass@k)')\n",
    "\n",
    "# Adding annotations and labels\n",
    "plt.xlabel('number of samples(k)')\n",
    "plt.ylabel('success rate')\n",
    "plt.title('Success Rate vs Number of Samples')\n",
    "plt.legend()\n",
    "\n",
    "# Displaying the plot\n",
    "plt.grid(True)\n",
    "plt.show()"
   ]
  },
  {
   "cell_type": "code",
   "execution_count": 53,
   "metadata": {},
   "outputs": [],
   "source": [
    "import json\n",
    "\n",
    "with open('/home/richard/Downloads/large_language_monkeys/scores/scores_8.json', 'w') as file:\n",
    "    json.dump(scores, file, indent=4)\n",
    "\n",
    "# with open('/home/richard/Downloads/large_language_monkeys/scores/results_8.json', 'w') as file:\n",
    "#     json.dump(results, file, indent=4)"
   ]
  },
  {
   "cell_type": "code",
   "execution_count": 39,
   "metadata": {},
   "outputs": [
    {
     "data": {
      "text/plain": [
       "512"
      ]
     },
     "execution_count": 39,
     "metadata": {},
     "output_type": "execute_result"
    }
   ],
   "source": [
    "len(checks)"
   ]
  },
  {
   "cell_type": "code",
   "execution_count": 40,
   "metadata": {},
   "outputs": [
    {
     "data": {
      "text/plain": [
       "52"
      ]
     },
     "execution_count": 40,
     "metadata": {},
     "output_type": "execute_result"
    }
   ],
   "source": [
    "len(results)"
   ]
  },
  {
   "cell_type": "markdown",
   "metadata": {},
   "source": [
    "## Combine coverage with majority success rate"
   ]
  },
  {
   "cell_type": "code",
   "execution_count": 41,
   "metadata": {},
   "outputs": [
    {
     "data": {
      "image/png": "[encoded data removed]",
      "text/plain": [
       "<Figure size 800x500 with 1 Axes>"
      ]
     },
     "metadata": {},
     "output_type": "display_data"
    }
   ],
   "source": [
    "import numpy as np\n",
    "import matplotlib.pyplot as plt\n",
    "from scipy.interpolate import make_interp_spline\n",
    "\n",
    "# Assuming 'scores' and 'results' are dictionaries you have defined\n",
    "# Example data (replace with your actual data):\n",
    "# scores = {100: 0.1, 200: 0.2, 300: 0.3, 400: 0.4, 500: 0.5}\n",
    "# results = {100: 0.05, 200: 0.15, 300: 0.25, 400: 0.35, 500: 0.45}\n",
    "\n",
    "# Extracting x and y values for 'scores'\n",
    "# x_vals_scores = [key for key in scores.keys() if key < 512]\n",
    "x_vals_scores = [key for key in scores.keys()]\n",
    "y_vals_scores = [scores[key] for key in x_vals_scores]\n",
    "\n",
    "# Extracting x and y values for 'results'\n",
    "# x_vals_results = [key for key in results.keys() if key < 512]\n",
    "x_vals_results = [key for key in results.keys()]\n",
    "y_vals_results = [results[key] for key in x_vals_results]\n",
    "\n",
    "# Creating smooth curves using spline interpolation for 'scores'\n",
    "x_new_scores = np.linspace(min(x_vals_scores), max(x_vals_scores), 300)\n",
    "spl_scores = make_interp_spline(x_vals_scores, y_vals_scores, k=3)\n",
    "y_smooth_scores = spl_scores(x_new_scores)\n",
    "\n",
    "# Creating smooth curves using spline interpolation for 'results'\n",
    "x_new_results = np.linspace(min(x_vals_results), max(x_vals_results), 300)\n",
    "spl_results = make_interp_spline(x_vals_results, y_vals_results, k=3)\n",
    "y_smooth_results = spl_results(x_new_results)\n",
    "\n",
    "# Plotting the graphs\n",
    "plt.figure(figsize=(8, 5))\n",
    "plt.plot(x_new_scores, y_smooth_scores, color='green', label='Majority Vote among k')\n",
    "plt.plot(x_new_results, y_smooth_results, color='blue', label='Coverage(pass@k) - results')\n",
    "\n",
    "# Adding annotations and labels\n",
    "plt.xlabel('number of samples(k)')\n",
    "plt.ylabel('success rate')\n",
    "plt.title('Success Rate vs Number of Samples - 8 Crompt')\n",
    "plt.legend()\n",
    "\n",
    "# Displaying the plot\n",
    "plt.grid(True)\n",
    "plt.show()\n"
   ]
  },
  {
   "cell_type": "code",
   "execution_count": 54,
   "metadata": {},
   "outputs": [],
   "source": [
    "import json\n",
    "\n",
    "# Load results_1\n",
    "with open('/home/richard/Downloads/large_language_monkeys/scores/results_1.json', 'r') as file:\n",
    "    results_1 = {int(key): float(value) for key, value in json.load(file).items()}\n",
    "\n",
    "# Load results_2\n",
    "with open('/home/richard/Downloads/large_language_monkeys/scores/results_2.json', 'r') as file:\n",
    "    results_2 = {int(key): float(value) for key, value in json.load(file).items()}\n",
    "\n",
    "# Load results_8\n",
    "with open('/home/richard/Downloads/large_language_monkeys/scores/results_8.json', 'r') as file:\n",
    "    results_8 = {int(key): float(value) for key, value in json.load(file).items()}\n",
    "\n",
    "# Load scores_1\n",
    "with open('/home/richard/Downloads/large_language_monkeys/scores/scores_1.json', 'r') as file:\n",
    "    scores_1 = {int(key): float(value) for key, value in json.load(file).items()}\n",
    "\n",
    "# Load scores_2\n",
    "with open('/home/richard/Downloads/large_language_monkeys/scores/scores_2.json', 'r') as file:\n",
    "    scores_2 = {int(key): float(value) for key, value in json.load(file).items()}\n",
    "\n",
    "# Load scores_8\n",
    "with open('/home/richard/Downloads/large_language_monkeys/scores/scores_8.json', 'r') as file:\n",
    "    scores_8 = {int(key): float(value) for key, value in json.load(file).items()}\n"
   ]
  },
  {
   "cell_type": "code",
   "execution_count": 55,
   "metadata": {},
   "outputs": [
    {
     "data": {
      "image/png": "[encoded data removed]",
      "text/plain": [
       "<Figure size 800x500 with 1 Axes>"
      ]
     },
     "metadata": {},
     "output_type": "display_data"
    }
   ],
   "source": [
    "import numpy as np\n",
    "import matplotlib.pyplot as plt\n",
    "from scipy.interpolate import make_interp_spline\n",
    "\n",
    "# Assuming 'scores', 'results', 'score_8', and 'result_8' are dictionaries you have defined\n",
    "# Example data (replace with your actual data):\n",
    "# scores = {100: 0.1, 200: 0.2, 300: 0.3, 400: 0.4, 500: 0.5}\n",
    "# results = {100: 0.05, 200: 0.15, 300: 0.25, 400: 0.35, 500: 0.45}\n",
    "# score_8 = {100: 0.12, 200: 0.22, 300: 0.32, 400: 0.42, 500: 0.52}\n",
    "# result_8 = {100: 0.07, 200: 0.17, 300: 0.27, 400: 0.37, 500: 0.47}\n",
    "\n",
    "# Extracting x and y values for 'scores'\n",
    "x_vals_scores = [key for key in scores.keys()]\n",
    "y_vals_scores = [scores[key] for key in x_vals_scores]\n",
    "\n",
    "# Extracting x and y values for 'results'\n",
    "x_vals_results = [key for key in results.keys()]\n",
    "y_vals_results = [results[key] for key in x_vals_results]\n",
    "\n",
    "# Extracting x and y values for 'score_8'\n",
    "x_vals_score_8 = [key for key in scores_8.keys()]\n",
    "y_vals_score_8 = [scores_8[key] for key in x_vals_score_8]\n",
    "\n",
    "# Extracting x and y values for 'result_8'\n",
    "x_vals_result_8 = [key for key in results_8.keys()]\n",
    "y_vals_result_8 = [results_8[key] for key in x_vals_result_8]\n",
    "\n",
    "# Creating smooth curves using spline interpolation for 'scores'\n",
    "x_new_scores = np.linspace(min(x_vals_scores), max(x_vals_scores), 300)\n",
    "spl_scores = make_interp_spline(x_vals_scores, y_vals_scores, k=3)\n",
    "y_smooth_scores = spl_scores(x_new_scores)\n",
    "\n",
    "# Creating smooth curves using spline interpolation for 'results'\n",
    "x_new_results = np.linspace(min(x_vals_results), max(x_vals_results), 300)\n",
    "spl_results = make_interp_spline(x_vals_results, y_vals_results, k=3)\n",
    "y_smooth_results = spl_results(x_new_results)\n",
    "\n",
    "# Creating smooth curves using spline interpolation for 'score_8'\n",
    "x_new_score_8 = np.linspace(min(x_vals_score_8), max(x_vals_score_8), 300)\n",
    "spl_score_8 = make_interp_spline(x_vals_score_8, y_vals_score_8, k=3)\n",
    "y_smooth_score_8 = spl_score_8(x_new_score_8)\n",
    "\n",
    "# Creating smooth curves using spline interpolation for 'result_8'\n",
    "x_new_result_8 = np.linspace(min(x_vals_result_8), max(x_vals_result_8), 300)\n",
    "spl_result_8 = make_interp_spline(x_vals_result_8, y_vals_result_8, k=3)\n",
    "y_smooth_result_8 = spl_result_8(x_new_result_8)\n",
    "\n",
    "# Plotting the graphs\n",
    "plt.figure(figsize=(8, 5))\n",
    "plt.plot(x_new_scores, y_smooth_scores, color='green', label='Majority Vote among k')\n",
    "plt.plot(x_new_results, y_smooth_results, color='blue', label='Coverage(pass@k) - results')\n",
    "plt.plot(x_new_score_8, y_smooth_score_8, color='red', label='Majority Vote among k - 8-prompt')\n",
    "plt.plot(x_new_result_8, y_smooth_result_8, color='purple', label='Coverage(pass@k) - results - 8-prompt')\n",
    "\n",
    "# Adding annotations and labels\n",
    "plt.xlabel('Number of samples (k)')\n",
    "plt.ylabel('Success rate')\n",
    "plt.title('Success Rate vs Number of Samples - 8 Crompt')\n",
    "plt.legend()\n",
    "\n",
    "# Displaying the plot\n",
    "plt.grid(True)\n",
    "plt.show()\n"
   ]
  },
  {
   "cell_type": "code",
   "execution_count": null,
   "metadata": {},
   "outputs": [],
   "source": []
  },
  {
   "cell_type": "code",
   "execution_count": 56,
   "metadata": {},
   "outputs": [
    {
     "data": {
      "image/png": "[encoded data removed]",
      "text/plain": [
       "<Figure size 1200x800 with 1 Axes>"
      ]
     },
     "metadata": {},
     "output_type": "display_data"
    }
   ],
   "source": [
    "import numpy as np\n",
    "import matplotlib.pyplot as plt\n",
    "from scipy.interpolate import make_interp_spline\n",
    "\n",
    "# Extracting x and y values for 'scores_1'\n",
    "x_vals_scores_1 = [key for key in scores_1.keys()]\n",
    "y_vals_scores_1 = [scores_1[key] for key in x_vals_scores_1]\n",
    "\n",
    "# Extracting x and y values for 'results_1'\n",
    "x_vals_results_1 = [key for key in results_1.keys()]\n",
    "y_vals_results_1 = [results_1[key] for key in x_vals_results_1]\n",
    "\n",
    "# Extracting x and y values for 'scores_2'\n",
    "x_vals_scores_2 = [key for key in scores_2.keys()]\n",
    "y_vals_scores_2 = [scores_2[key] for key in x_vals_scores_2]\n",
    "\n",
    "# Extracting x and y values for 'results_2'\n",
    "x_vals_results_2 = [key for key in results_2.keys()]\n",
    "y_vals_results_2 = [results_2[key] for key in x_vals_results_2]\n",
    "\n",
    "# Extracting x and y values for 'scores_8'\n",
    "x_vals_score_8 = [key for key in scores_8.keys()]\n",
    "y_vals_score_8 = [scores_8[key] for key in x_vals_score_8]\n",
    "\n",
    "# Extracting x and y values for 'results_8'\n",
    "x_vals_result_8 = [key for key in results_8.keys()]\n",
    "y_vals_result_8 = [results_8[key] for key in x_vals_result_8]\n",
    "\n",
    "# Creating smooth curves using spline interpolation for 'scores_1'\n",
    "x_new_scores_1 = np.linspace(min(x_vals_scores_1), max(x_vals_scores_1), 300)\n",
    "spl_scores_1 = make_interp_spline(x_vals_scores_1, y_vals_scores_1, k=3)\n",
    "y_smooth_scores_1 = spl_scores_1(x_new_scores_1)\n",
    "\n",
    "# Creating smooth curves using spline interpolation for 'results_1'\n",
    "x_new_results_1 = np.linspace(min(x_vals_results_1), max(x_vals_results_1), 300)\n",
    "spl_results_1 = make_interp_spline(x_vals_results_1, y_vals_results_1, k=3)\n",
    "y_smooth_results_1 = spl_results_1(x_new_results_1)\n",
    "\n",
    "# Creating smooth curves using spline interpolation for 'scores_2'\n",
    "x_new_scores_2 = np.linspace(min(x_vals_scores_2), max(x_vals_scores_2), 300)\n",
    "spl_scores_2 = make_interp_spline(x_vals_scores_2, y_vals_scores_2, k=3)\n",
    "y_smooth_scores_2 = spl_scores_2(x_new_scores_2)\n",
    "\n",
    "# Creating smooth curves using spline interpolation for 'results_2'\n",
    "x_new_results_2 = np.linspace(min(x_vals_results_2), max(x_vals_results_2), 300)\n",
    "spl_results_2 = make_interp_spline(x_vals_results_2, y_vals_results_2, k=3)\n",
    "y_smooth_results_2 = spl_results_2(x_new_results_2)\n",
    "\n",
    "# Creating smooth curves using spline interpolation for 'scores_8'\n",
    "x_new_score_8 = np.linspace(min(x_vals_score_8), max(x_vals_score_8), 300)\n",
    "spl_score_8 = make_interp_spline(x_vals_score_8, y_vals_score_8, k=3)\n",
    "y_smooth_score_8 = spl_score_8(x_new_score_8)\n",
    "\n",
    "# Creating smooth curves using spline interpolation for 'results_8'\n",
    "x_new_result_8 = np.linspace(min(x_vals_result_8), max(x_vals_result_8), 300)\n",
    "spl_result_8 = make_interp_spline(x_vals_result_8, y_vals_result_8, k=3)\n",
    "y_smooth_result_8 = spl_result_8(x_new_result_8)\n",
    "\n",
    "# Plotting the graphs\n",
    "plt.figure(figsize=(12, 8))\n",
    "plt.plot(x_new_scores_1, y_smooth_scores_1, color='green', label='Majority Vote among k - 1 prompt')\n",
    "plt.plot(x_new_results_1, y_smooth_results_1, color='blue', label='Coverage(pass@k) - 1 prompt')\n",
    "plt.plot(x_new_scores_2, y_smooth_scores_2, color='orange', label='Majority Vote among k - 2 prompt')\n",
    "plt.plot(x_new_results_2, y_smooth_results_2, color='cyan', label='Coverage(pass@k) - 2 prompt')\n",
    "plt.plot(x_new_score_8, y_smooth_score_8, color='red', label='Majority Vote among k - 8 prompt')\n",
    "plt.plot(x_new_result_8, y_smooth_result_8, color='purple', label='Coverage(pass@k) - 8 prompt')\n",
    "\n",
    "# Adding annotations and labels\n",
    "plt.xlabel('Number of samples (k)')\n",
    "plt.ylabel('Success rate')\n",
    "plt.title('Success Rate vs Number of Samples')\n",
    "plt.legend()\n",
    "\n",
    "# Displaying the plot\n",
    "plt.grid(True)\n",
    "plt.show()\n"
   ]
  },
  {
   "cell_type": "markdown",
   "metadata": {},
   "source": []
  }
 ],
 "metadata": {
  "kernelspec": {
   "display_name": "llmonk",
   "language": "python",
   "name": "python3"
  },
  "language_info": {
   "codemirror_mode": {
    "name": "ipython",
    "version": 3
   },
   "file_extension": ".py",
   "mimetype": "text/x-python",
   "name": "python",
   "nbconvert_exporter": "python",
   "pygments_lexer": "ipython3",
   "version": "3.11.8"
  },
  "orig_nbformat": 4
 },
 "nbformat": 4,
 "nbformat_minor": 2
}
